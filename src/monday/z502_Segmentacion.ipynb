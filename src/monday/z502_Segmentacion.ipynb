{
  "cells": [
    {
      "cell_type": "markdown",
      "metadata": {
        "id": "FX-Vq4mgJS_t"
      },
      "source": [
        "# Segmentando clientes\n",
        "\n",
        "En esta notebook se verá una forma sobre como segmentar a los clientes, cuando cuenta con una gran cantidad de estos sobre una base de datos de una gran (?) cantidad de dimensiones.\n",
        "\n",
        "Empezaremos cargando el entorno e instalando los requerimentos necesarios."
      ]
    },
    {
      "cell_type": "code",
      "execution_count": null,
      "metadata": {
        "colab": {
          "base_uri": "https://localhost:8080/"
        },
        "id": "CqrQIDd8JRlJ",
        "outputId": "28396bd0-b03c-4514-9f77-39c0930afb05"
      },
      "outputs": [],
      "source": [
        "#%pip install scikit-learn==1.3.2\n",
        "#%pip install seaborn==0.13.1\n",
        "#%pip install numpy==1.26.4\n",
        "#%pip install matplotlib==3.7.1\n",
        "#%pip install umap\n",
        "#%pip install umap-learn"
      ]
    },
    {
      "cell_type": "code",
      "execution_count": null,
      "metadata": {
        "id": "T8x1jAl_kqFt"
      },
      "outputs": [],
      "source": [
        "import pandas as pd\n",
        "import numpy as np\n",
        "import seaborn as sns\n",
        "\n",
        "from umap import UMAP\n",
        "import matplotlib.pyplot as plt\n",
        "from sklearn.cluster import DBSCAN\n",
        "from sklearn.ensemble import  RandomForestClassifier\n",
        "from sklearn.impute import SimpleImputer\n",
        "\n",
        "import pickle"
      ]
    },
    {
      "cell_type": "code",
      "execution_count": 2,
      "metadata": {
        "id": "R58qDmLYtVXk"
      },
      "outputs": [],
      "source": [
        "base_path = 'C:/Users/c678456/Desktop/Ian/Maestría/Especializacion/2do_cuatrimestre/DMEyF/'\n",
        "dataset_path = base_path + 'datasets/'\n",
        "modelos_path = base_path + 'modelos/'\n",
        "db_path = base_path + 'db/'\n",
        "dataset_file = 'competencia_01_fe.csv'"
      ]
    },
    {
      "cell_type": "code",
      "execution_count": 3,
      "metadata": {
        "id": "bpzFTT_HkzLx"
      },
      "outputs": [],
      "source": [
        "# Datos.\n",
        "df_train = pd.read_csv(dataset_path + dataset_file)"
      ]
    },
    {
      "cell_type": "code",
      "execution_count": 9,
      "metadata": {},
      "outputs": [],
      "source": [
        "# Modelo.\n",
        "filename = modelos_path + 'exp_206_rf_100_imputacion_media.sav'\n",
        "model_rf = pickle.load(open(filename, 'rb'))"
      ]
    },
    {
      "cell_type": "markdown",
      "metadata": {
        "id": "AEDRaksFthSF"
      },
      "source": [
        "Solo segmentaremos a los clientes de abril, dado que necesitaremos variables en algún momento agregar variables históricas para entender su comportamiento previo a la **baja**"
      ]
    },
    {
      "cell_type": "code",
      "execution_count": 4,
      "metadata": {
        "id": "MNZ1Vrg4k9r8"
      },
      "outputs": [],
      "source": [
        "# Filtro los cuatro meses de entrenamiento.\n",
        "mes_train = [202101,202102,202103,202104]\n",
        "df_train = df_train[df_train['foto_mes'].isin(mes_train)]"
      ]
    },
    {
      "cell_type": "markdown",
      "metadata": {
        "id": "yR9XFSG4t5We"
      },
      "source": [
        "A su vez, nos concentraremos en el fenómeno de la **baja**. No importa si es en un mes o si es en dos."
      ]
    },
    {
      "cell_type": "code",
      "execution_count": 5,
      "metadata": {
        "id": "sXUD6rxyk7VJ"
      },
      "outputs": [],
      "source": [
        "Xtrain = df_train\n",
        "ytrain = Xtrain[\"clase_ternaria\"].map(lambda x: 0 if x == \"CONTINUA\" else 1)\n",
        "Xtrain = Xtrain.drop(\"clase_ternaria\", axis=1)\n",
        "\n",
        "del(df_train)"
      ]
    },
    {
      "cell_type": "markdown",
      "metadata": {
        "id": "5FR1cavzuEaB"
      },
      "source": [
        "Lo primero que necesitamos es saber cuando un cliente es parecido a otro. Todos los clientes que son parecidos los juntaremos en un **segmento** y sobre esos segmentos haremos perfilados o profiles para entender que los caracteriza.\n",
        "\n",
        "Saber cuando un cliente es parecido a otro no es algo tan simple en un problema de alta dimensionalidad, lo que se suele llamar **curse of dimensionality**. Las cosas no son lo mismo más allá de nuestras 3 escasas dimensiones. Para muestra, un botón: https://www.youtube.com/watch?v=mceaM2_zQd8\n",
        "\n",
        "Por esto, es conveniente usar herramientas que nos ayuden a no tener que hacer distancias euclídeas.\n",
        "\n",
        "Empecemos con una ayuda con nos dan nuestros amigos, los **rf** con una original matriz de distancias (https://en.wikipedia.org/wiki/Distance_matrix)"
      ]
    },
    {
      "cell_type": "markdown",
      "metadata": {
        "id": "r3_HXJFymRN3"
      },
      "source": [
        "La **Random Forest Distance** es una matriz derivada del algoritmo Random Forest,\n",
        "\n",
        "+ Se utiliza para medir la similitud entre pares de puntos de datos. Esta métrica se basa en la idea de cuántas veces dos puntos de datos terminan en la misma hoja de un árbol en un **rf**, entre los múltiples árboles que se generan.\n",
        "\n",
        "+ Cómo se Calcula?\n",
        "\n",
        " 1. Se entrena un **rf**.\n",
        " 2. Para cada par de clientes $c_i$ y $c_j$, se observa cuántas veces caen en la misma hoja a través de todos los árboles del bosque. Luego se agrega en la posición $i$, $j$ de una matriz el número de veces que coincidieron esos dos clientes en un nodo terminal.\n",
        " 3. Se calcula la matriz de distancia como **1 - proporción de veces que caen en la misma hoja**. Ejemplo: Si caen en la misma hoja el 90% de las veces, su distancia será 0.1. Si nunca caen en la misma hoja, la distancia es 1.\n",
        "\n",
        "Veamoslo aplicado en nuestro caso"
      ]
    },
    {
      "cell_type": "markdown",
      "metadata": {
        "id": "G9omJU4KnsVE"
      },
      "source": [
        "Para trabajar con este algoritmo no vamos a trabajar con todos los datos. Usted decida con cuantos trabajar. En este caso, tomaremos todos los **baja** y unos 2000 **continua**, ya que queremos como interactuan los segmentos de clientes que se van con los que se quedan.\n"
      ]
    },
    {
      "cell_type": "code",
      "execution_count": 7,
      "metadata": {
        "id": "4aqKBvj2nnrM"
      },
      "outputs": [],
      "source": [
        "np.random.seed(17)\n",
        "continua_sample = ytrain[ytrain == 0].sample(2000).index\n",
        "bajas_1_2 = ytrain[ytrain == 1].index\n",
        "rf_index = continua_sample.union(bajas_1_2)\n",
        "\n",
        "Xtrain_rf = Xtrain.loc[rf_index]\n",
        "ytrain_rf = ytrain.loc[rf_index]"
      ]
    },
    {
      "cell_type": "markdown",
      "metadata": {
        "id": "CFTvRro4yv2C"
      },
      "source": [
        "Entrenamos un simple **rf**, despliegue sus herramientas aprendidas para contar con un buen modelo\n"
      ]
    },
    {
      "cell_type": "code",
      "execution_count": null,
      "metadata": {
        "colab": {
          "base_uri": "https://localhost:8080/",
          "height": 75
        },
        "id": "FQ1pNFwmzOc5",
        "outputId": "3846997b-ec54-4703-cc84-e105069562f6"
      },
      "outputs": [],
      "source": [
        "#imp_mean = SimpleImputer(missing_values=np.nan, strategy='median')\n",
        "#Xtrain_rf_imp = imp_mean.fit_transform(Xtrain_rf)\n",
        "\n",
        "#model = RandomForestClassifier(n_estimators=100, max_features=20, min_samples_leaf=400, random_state=17 )\n",
        "#model.fit(Xtrain_rf_imp, ytrain_rf)\n",
        "\n",
        "model_rf.fit(Xtrain_rf,ytrain_rf)"
      ]
    },
    {
      "cell_type": "markdown",
      "metadata": {
        "id": "3WkehiTNzRrL"
      },
      "source": [
        "Armamos (copiamos de internet) una función que nos calcule la matriz de distancias"
      ]
    },
    {
      "cell_type": "code",
      "execution_count": 11,
      "metadata": {
        "id": "Ab0UY9VAo1mj"
      },
      "outputs": [],
      "source": [
        "def distanceMatrix(model, X):\n",
        "\n",
        "    terminals = model.apply(X)\n",
        "    nTrees = terminals.shape[1]\n",
        "\n",
        "    a = terminals[:,0]\n",
        "    proxMat = 1*np.equal.outer(a, a)\n",
        "\n",
        "    for i in range(1, nTrees):\n",
        "        a = terminals[:,i]\n",
        "        proxMat += 1*np.equal.outer(a, a)\n",
        "\n",
        "    proxMat = proxMat / nTrees\n",
        "\n",
        "    return proxMat.max() - proxMat\n",
        "\n",
        "#md = distanceMatrix(model, Xtrain_rf_imp)\n",
        "md = distanceMatrix(model_rf, Xtrain_rf)"
      ]
    },
    {
      "cell_type": "markdown",
      "metadata": {
        "id": "uBIZpRv4zfCu"
      },
      "source": [
        "Veamos como se ve. Recuerde que significa que un número esté cerca de 0 o que esté cerca de 1."
      ]
    },
    {
      "cell_type": "markdown",
      "metadata": {
        "id": "xrhE0O2nzodC"
      },
      "source": [
        "Para poder visualizar la matriz, utilizaremos un embedding. Los *embeddings* son representaciones vectoriales de datos en un espacio de menor dimensión\n",
        "\n",
        "Podría utilizar un **PCA** con ese fin, pero en los últimos años hay mejores algoritmos como **t-sne** o **umap**.\n",
        "\n",
        "UMAP (Uniform Manifold Approximation and Projection) es una técnica avanzada para la reducción de dimensionalidad y visualización de datos en espacios de menor dimensión, que busca mantener al máximo la estructura de los datos en alta dimensión.\n",
        "\n",
        "1. **Preservación de la Estructura Global y Local**:\n",
        "   - Intenta preservar tanto la estructura local (relaciones cercanas) como la global (estructura general) de los datos al proyectarlos en un espacio de menor dimensión.\n",
        "\n",
        "2. **Basado en Manifold Learning**:\n",
        "   - UMAP asume que los datos de alta dimensión se encuentran en un espacio de menor dimensión (un \"manifold\") y busca proyectar esos datos de manera que se mantenga esa estructura subyacente.\n",
        "\n",
        "3. **Velocidad y Escalabilidad**:\n",
        "   - UMAP es más rápido y escalable en comparación con técnicas similares como t-SNE, especialmente en conjuntos de datos grandes.\n",
        "\n",
        "4. **Control sobre la Estructura**:\n",
        "   - UMAP permite al usuario ajustar parámetros que controlan la preservación de la estructura local y global, como el número de vecinos cercanos (n_neighbors) y la distancia mínima entre puntos (min_dist).\n",
        "\n",
        "Una característica adicional, es que cuenta con la posibilidad de recibir de entrada una matriz de distancia.\n",
        "\n",
        "Veamos los datos por primera vez:"
      ]
    },
    {
      "cell_type": "code",
      "execution_count": null,
      "metadata": {
        "colab": {
          "base_uri": "https://localhost:8080/",
          "height": 544
        },
        "id": "5LRYIYv-rBb6",
        "outputId": "cf878468-23ef-438a-d32b-e07f179f3ccf"
      },
      "outputs": [],
      "source": [
        "embedding_rf = UMAP(\n",
        "  n_components=2,\n",
        "  n_neighbors=50,\n",
        "  metric=\"precomputed\",\n",
        "  random_state=17,\n",
        ").fit_transform(md)\n",
        "\n",
        "plt.scatter(embedding_rf[:,0], embedding_rf[:,1])"
      ]
    },
    {
      "cell_type": "markdown",
      "metadata": {
        "id": "r2StQEZK3Guh"
      },
      "source": [
        "Agreguemos la dimensión de la probabilidad de salida, para ver donde cree el modelo que se encuentran los **bajas**."
      ]
    },
    {
      "cell_type": "code",
      "execution_count": null,
      "metadata": {
        "colab": {
          "base_uri": "https://localhost:8080/",
          "height": 435
        },
        "id": "A1Rfhj7CTeLt",
        "outputId": "cc6bf1e7-2099-4b20-dc81-44ebfab9b88d"
      },
      "outputs": [],
      "source": [
        "#class_index = np.where(model.classes_ == 1)[0]\n",
        "#prob_baja = model.predict_proba(Xtrain_rf_imp)[:,class_index]\n",
        "\n",
        "class_index = np.where(model_rf.classes_ == 1)[0]\n",
        "prob_baja = model_rf.predict_proba(Xtrain_rf)[:,class_index]\n",
        "\n",
        "plt.scatter(embedding_rf[:,0], embedding_rf[:,1], c=prob_baja)\n",
        "plt.colorbar()\n",
        "plt.show()"
      ]
    },
    {
      "cell_type": "markdown",
      "metadata": {
        "id": "xpthaD3P3d4C"
      },
      "source": [
        "Vamos a partir de este embedding para segmentar a los clientes. Puede utilizar cualquier técnica, los datos ya son simples para cualquier algoritmo. Utilizaremos uno bastante estandar"
      ]
    },
    {
      "cell_type": "code",
      "execution_count": null,
      "metadata": {
        "colab": {
          "base_uri": "https://localhost:8080/",
          "height": 486
        },
        "id": "RtyL7PdqrVpr",
        "outputId": "4e457963-66a5-40bb-c3a5-001a2c249c32"
      },
      "outputs": [],
      "source": [
        "hdb = DBSCAN(eps=0.3)\n",
        "y = hdb.fit(embedding_rf)\n",
        "\n",
        "# Agregar etiquetas de clúster\n",
        "unique_labels = set(y.labels_)\n",
        "for label in unique_labels:\n",
        "    # Filtrar los puntos de cada clúster\n",
        "    cluster_points = embedding_rf[y.labels_ == label]\n",
        "    \n",
        "    # Calcular el centroide del clúster para colocar la etiqueta\n",
        "    centroid = cluster_points.mean(axis=0)\n",
        "    \n",
        "    # Colocar el número del clúster en el gráfico\n",
        "    plt.text(centroid[0], centroid[1], str(label), fontsize=12, fontweight='bold', color='black')\n",
        "    \n",
        "plt.scatter(embedding_rf[:, 0], embedding_rf[:, 1], c=y.labels_, cmap='tab10')\n",
        "plt.tight_layout()\n",
        "plt.show()"
      ]
    },
    {
      "cell_type": "code",
      "execution_count": null,
      "metadata": {},
      "outputs": [],
      "source": [
        "# Aplana el array de prob_baja para que sea unidimensional\n",
        "prob_baja_flat = prob_baja.ravel()  # O usa prob_baja.flatten() si prefieres\n",
        "\n",
        "# Verifica que ahora ambos arrays sean unidimensionales y tengan la misma longitud\n",
        "print(f\"Dimensiones de etiquetas de clusters: {y.labels_.shape}\")\n",
        "print(f\"Dimensiones de probabilidad de baja (aplanado): {prob_baja_flat.shape}\")\n",
        "\n",
        "# Crear el DataFrame si las dimensiones coinciden\n",
        "if y.labels_.shape[0] == prob_baja_flat.shape[0]:\n",
        "    df_clusters = pd.DataFrame({\n",
        "        'cluster': y.labels_,  # Etiquetas de los clusters del DBSCAN\n",
        "        'prob_baja': prob_baja_flat  # Probabilidades de baja de cada cliente (aplanado)\n",
        "    })\n",
        "\n",
        "    # Paso 2: Calcular el promedio de probabilidad de baja por cluster\n",
        "    cluster_avg_prob_baja = df_clusters.groupby('cluster')['prob_baja'].mean()\n",
        "\n",
        "    # Mostrar los resultados\n",
        "    print(cluster_avg_prob_baja)\n",
        "else:\n",
        "    print(\"Las dimensiones de 'y.labels_' y 'prob_baja' aún no coinciden.\")"
      ]
    },
    {
      "cell_type": "markdown",
      "metadata": {
        "id": "1DT8Napm4giz"
      },
      "source": [
        "Veamos cuantos cluster detecto y cuantos clientes tiene cada uno"
      ]
    },
    {
      "cell_type": "markdown",
      "metadata": {
        "id": "qDcWrYG94sGq"
      },
      "source": [
        "Los que tienen -1, son considerados outliers."
      ]
    },
    {
      "cell_type": "markdown",
      "metadata": {
        "id": "O4kSLegC4wXT"
      },
      "source": [
        "Por último necesitamos alguna forma de saber que hace a cada cluster distinto del otro. Para esto utilizaremos modelos (**rf**) que buscan separar los cluster uno a uno del resto de los datos.\n",
        "\n",
        "Por cada modelo, miraremos cuales son las variables más importantes que separan los datos para luego caracterizarlos:\n",
        "\n",
        "Manos a la obra:"
      ]
    },
    {
      "cell_type": "code",
      "execution_count": 18,
      "metadata": {
        "id": "JNAspxcDNsJO"
      },
      "outputs": [],
      "source": [
        "df_embedding = pd.DataFrame(embedding_rf, columns=['embedding_1', 'embedding_2'])\n",
        "df_embedding['cluster'] = y.labels_\n",
        "\n",
        "clusters = df_embedding['cluster'].unique()\n",
        "\n",
        "important_features_by_cluster = {}\n",
        "\n",
        "for cluster in clusters:\n",
        "  y_binary = (df_embedding['cluster'] == cluster).astype(int)\n",
        "\n",
        "  model = RandomForestClassifier(random_state=17)\n",
        "  #model.fit(Xtrain_rf_imp, y_binary)\n",
        "  model.fit(Xtrain_rf, y_binary)\n",
        "\n",
        "  importances = model.feature_importances_\n",
        "  feature_names = Xtrain_rf.columns\n",
        "\n",
        "  indices = np.argsort(importances)[::-1]\n",
        "  important_features_by_cluster[cluster] = [feature_names[i] for i in indices]"
      ]
    },
    {
      "cell_type": "markdown",
      "metadata": {
        "id": "y7Mz0fa35llh"
      },
      "source": [
        "Y exploramos cuales son las variables importantes por cada cluster"
      ]
    },
    {
      "cell_type": "code",
      "execution_count": null,
      "metadata": {
        "colab": {
          "base_uri": "https://localhost:8080/"
        },
        "id": "TXC_cFv45mO5",
        "outputId": "e8c852a3-bc84-42b8-9c61-865b61eb3094"
      },
      "outputs": [],
      "source": [
        "for cluster, features in important_features_by_cluster.items():\n",
        "  print(f\"Cluster {cluster} vs. Resto:\")\n",
        "  for feature in features[:15]:\n",
        "    print(f\"  - {feature}\")"
      ]
    },
    {
      "cell_type": "markdown",
      "metadata": {
        "id": "h5WHCJDw53Pa"
      },
      "source": [
        "Luego resta, analizar los estadísticos de los datos de cada cluster para las variables importantes, comparar sus distribuciones con histogramas, boxplots, pivot tables, etc.\n"
      ]
    },
    {
      "cell_type": "markdown",
      "metadata": {
        "id": "Th9-1pcqMZeG"
      },
      "source": [
        "Junto con el diccionaro de datos, de sentido a lo que ve a través del análisis multivariado de datos.\n",
        "\n",
        "Obviamente, esto es apenas mas que una semilla. Agregue las variables históricas, juegue con los **rf** y genere una segmentación pro, que encante a Miranda\n"
      ]
    },
    {
      "cell_type": "markdown",
      "metadata": {},
      "source": [
        "#### 1. Creo el dataframe a analizar."
      ]
    },
    {
      "cell_type": "code",
      "execution_count": 107,
      "metadata": {},
      "outputs": [],
      "source": [
        "df_analizar = Xtrain_rf.copy()\n",
        "df_analizar['cluster'] = y.labels_"
      ]
    },
    {
      "cell_type": "markdown",
      "metadata": {},
      "source": [
        "#### 2. Análisis de cada clúster."
      ]
    },
    {
      "cell_type": "code",
      "execution_count": 110,
      "metadata": {},
      "outputs": [],
      "source": [
        "descriptivo_cluster = {}\n",
        "for cluster, features in important_features_by_cluster.items():\n",
        "    #print(\"\\n\\nCLUSTER {}\\n\\n\".format(cluster))\n",
        "    features_filtrar = features[:15]\n",
        "    df = df_analizar[df_analizar[\"cluster\"] == cluster][features_filtrar]\n",
        "    descriptivo_cluster[cluster] = df.describe()"
      ]
    },
    {
      "cell_type": "markdown",
      "metadata": {},
      "source": [
        "##### a. Clúster 0 (vs clúster 4)."
      ]
    },
    {
      "cell_type": "code",
      "execution_count": null,
      "metadata": {},
      "outputs": [],
      "source": [
        "descriptivo_cluster[0]"
      ]
    },
    {
      "cell_type": "code",
      "execution_count": null,
      "metadata": {},
      "outputs": [],
      "source": [
        "# No son trabajadores (payroll bajo) por ende, no tienen apego por el banco.\n",
        "# Tienen pasivos con el banco.\n",
        "# No suelen tener mucha plata en la caja de ahorro (hasta el 75% tiene $25,583.28).\n",
        "# Suelen deber por la TdeC (media -$28,864.39 ante un pago mínimo de $6,676.71)"
      ]
    },
    {
      "cell_type": "code",
      "execution_count": null,
      "metadata": {},
      "outputs": [],
      "source": [
        "descriptivo_cluster[4]"
      ]
    },
    {
      "cell_type": "code",
      "execution_count": null,
      "metadata": {},
      "outputs": [],
      "source": [
        "# Si comparamos el clúster 0 con el 4 (CONTINUA CLARAMENTE), vemos que...\n",
        "# - Son claramente Trabajadores con aumentos de sueldo.\n",
        "# - Hacen transacciones bancarias.\n",
        "# - Usan la tarjeta de crédito de gran manera.\n",
        "# - Hacen extracciones del autoservicio, etc."
      ]
    },
    {
      "cell_type": "markdown",
      "metadata": {},
      "source": [
        "##### b. Clúster 1 vs clúster 3 (son parecidos)."
      ]
    },
    {
      "cell_type": "code",
      "execution_count": null,
      "metadata": {},
      "outputs": [],
      "source": [
        "descriptivo_cluster[1]"
      ]
    },
    {
      "cell_type": "code",
      "execution_count": null,
      "metadata": {},
      "outputs": [],
      "source": [
        "# Casi sin uso de la caja de ahorro (de hecho, va descendiendo).\n",
        "# Casi sin uso de la tarjeta de crédito VISA (de hecho, casi sin saldo, sin consumos, casi todo el limite descubierto).\n",
        "# No genera pasivos (no usa los productos financieros).\n",
        "# Casi sin movimientos.\n",
        "# La antiguedad es menor que el clúster 0 y 4."
      ]
    },
    {
      "cell_type": "code",
      "execution_count": null,
      "metadata": {},
      "outputs": [],
      "source": [
        "descriptivo_cluster[3]"
      ]
    },
    {
      "cell_type": "code",
      "execution_count": null,
      "metadata": {},
      "outputs": [],
      "source": [
        "# Parece no tener pasivos (falta de productos financieros).\n",
        "# No usa la caja de ahorro ni las tarjetas de crédito.\n",
        "# Casi sin saldo en la cuenta.\n",
        "# Casi no hace transacciones bancarias.\n",
        "\n",
        "\n",
        "\n",
        "# ------------> Muy parecido al clúster 1... BUSCAR LA DIFERENCIA... en otras variables? hacer otro árbol?\n",
        "# --------------> RECOMENDACION: PERDERLOS."
      ]
    },
    {
      "cell_type": "code",
      "execution_count": null,
      "metadata": {},
      "outputs": [],
      "source": [
        "# Paso 1: Obtener las 10 variables más importantes para los clusters 1 y 3\n",
        "top_10_cluster_1 = [feature for feature in important_features_by_cluster[1][:10]]\n",
        "top_10_cluster_3 = [feature for feature in important_features_by_cluster[3][:10]]\n",
        "\n",
        "# Paso 2: Unir las variables de los dos clusters y eliminar duplicados\n",
        "unique_top_features = list(set(top_10_cluster_1 + top_10_cluster_3))\n",
        "\n",
        "# Paso 3: Filtrar los datos para los clusters 1 y 3\n",
        "df_filtered = df_analizar[df_analizar['cluster'].isin([1, 3])]\n",
        "\n",
        "# Paso 4: Hacer un boxplot para cada una de las variables más importantes sin mostrar outliers\n",
        "for feature in unique_top_features:\n",
        "    plt.figure(figsize=(8, 6))\n",
        "    df_filtered.boxplot(column=feature, by='cluster', grid=False)#, showfliers=False)\n",
        "    plt.title(f'Boxplot of {feature} by Cluster 1 and 3 (No Outliers)')\n",
        "    plt.suptitle('')  # Remover el título que agrega pandas por defecto\n",
        "    plt.xlabel('Cluster')\n",
        "    plt.ylabel(f'{feature} values')\n",
        "    plt.show()"
      ]
    },
    {
      "cell_type": "markdown",
      "metadata": {},
      "source": [
        "##### c. Clúster 5."
      ]
    },
    {
      "cell_type": "code",
      "execution_count": null,
      "metadata": {},
      "outputs": [],
      "source": [
        "descriptivo_cluster[5]"
      ]
    },
    {
      "cell_type": "code",
      "execution_count": null,
      "metadata": {},
      "outputs": [],
      "source": [
        "# Uso de prestamos personales (con pendiente positiva).\n",
        "# Margen por Activos positivo.\n",
        "# No suele tener mucha plata en la caja de ahorros.\n",
        "# No son trabajadores.\n",
        "# Posible competencia vs otros bancos ante tasas más favorables?"
      ]
    },
    {
      "cell_type": "markdown",
      "metadata": {},
      "source": [
        "##### d. Clúster 6."
      ]
    },
    {
      "cell_type": "code",
      "execution_count": null,
      "metadata": {},
      "outputs": [],
      "source": [
        "descriptivo_cluster[6]"
      ]
    },
    {
      "cell_type": "code",
      "execution_count": null,
      "metadata": {},
      "outputs": [],
      "source": [
        "# Perfiles muy importantes (resaltarlos) ya que son muy rentables para el banco y manejan grandes volúmenes de activos.\n",
        "# De hecho, dicha rentabilidad, está en aumento (gran consumo de productos financieros).\n",
        "# Lo mismos con el margen por activos (cobro intereses).\n",
        "# Ahora bien, tienen saldo en cuenta negativo, cuenta corriendo negativo,  y los pasivos_margen están cayendo.\n",
        "# La presencia de saldos negativos y la variabilidad en mcuentas_saldo y mcuenta_corriente sugiere que los clientes en el Cluster 6 realizan transacciones de gran volumen, lo que podría ser diferente a la frecuencia alta pero de menor magnitud observada en Cluster 5."
      ]
    },
    {
      "cell_type": "markdown",
      "metadata": {},
      "source": [
        "##### e. Clúster 7."
      ]
    },
    {
      "cell_type": "code",
      "execution_count": null,
      "metadata": {},
      "outputs": [],
      "source": [
        "descriptivo_cluster[7]"
      ]
    },
    {
      "cell_type": "code",
      "execution_count": null,
      "metadata": {},
      "outputs": [],
      "source": [
        "# Tienen payroll, pero bajo.\n",
        "# Se les cobra muchas comisiones de mantenimiento.\n",
        "# No tienen mucha plata en la caja de ahorro.\n",
        "# Realizan algunas transacciones.\n",
        "# Son más bien gente de alta edad y con mucha antigüedad.\n",
        "\n",
        "# -------------> Comparación con el clúster 4.\n",
        "# Los clientes del Cluster 4 tienen ingresos más altos y, por ende, mayor variedad de productos financieros con mejores condiciones?????. \n",
        "# A estos se les puede ofrecer cuentas premium o productos de inversión personalizados ??????"
      ]
    },
    {
      "cell_type": "markdown",
      "metadata": {},
      "source": [
        "##### f. Clúster 8 vs. Clúster 9 (son parecidos)."
      ]
    },
    {
      "cell_type": "code",
      "execution_count": null,
      "metadata": {},
      "outputs": [],
      "source": [
        "descriptivo_cluster[8]"
      ]
    },
    {
      "cell_type": "code",
      "execution_count": null,
      "metadata": {},
      "outputs": [],
      "source": [
        "# Son clientes con TC de hace muy poco tiempo (Usan ambas tarjetas, tanto Visa como Mastercard nuevos) ----> Analizar deudas por la TC.\n",
        "# Con saldo total en todas las cuentas negativo (especialmente, en la cuenta corriente) ---> Analizar préstamos, sobregiros. Se puede deber a problemas financieros o simplemente de un uso intensivo de las cuentas corrientes.\n",
        "# Tienen mactivos_margen (intereses), lo cual habla de cobro de intereses.\n",
        "# Les cobran \"comisiones otras\" (por sobregiros? cheques rechazados? descubierto? pagos automáticos? uso de tarjetas?).\n",
        "\n",
        "# Estos intereses/comisiones se puede deber para el mantenimiento de sus servicios, debido que son clientes nuevos. (servicios ---> Tarjeta de Crédito, Uso de descubierto).\n",
        "# Porque no usan la tarjeta?\n",
        "\n",
        "# -----------> Solución: Bajar los intereses/comisiones por saldos negativos? O son clientes que se fueron haciendo morosos?"
      ]
    },
    {
      "cell_type": "code",
      "execution_count": null,
      "metadata": {},
      "outputs": [],
      "source": [
        "descriptivo_cluster[9]"
      ]
    },
    {
      "cell_type": "code",
      "execution_count": null,
      "metadata": {},
      "outputs": [],
      "source": [
        "# También son clientes nuevos (como el clúster 8).\n",
        "# Tienen tarjeta VISA y MASTERCARD hace poco tiempo.\n",
        "# Generan una rentabilidad negativa al banco! (cluster 8 aunque sea genera comisiones) pero rentabilidad anual.\n",
        "# Suelen tener al menos una caja de ahorro y una cuenta corriente.\n",
        "\n",
        "# ----------------> Ahondar en la diferencia con el clúster 8."
      ]
    },
    {
      "cell_type": "code",
      "execution_count": null,
      "metadata": {},
      "outputs": [],
      "source": [
        "#Perfil de los clientes en riesgo de abandono\n",
        "#Clúster 8:\n",
        "#Perfil: Clientes con una relación moderada con el banco, usando diversos productos financieros (como cuentas y tarjetas), pero con una situación financiera comprometida (saldos negativos y deudas). Están pagando comisiones relativamente altas y pueden estar buscando mejores opciones en otros bancos.\n",
        "#Clúster 9:\n",
        "#Perfil: Clientes recientes, que han abierto productos financieros hace poco tiempo, con una actividad y rentabilidad baja. Estos clientes aún no han consolidado una relación fuerte con el banco, y si no ven mejoras o beneficios claros, podrían decidir abandonar rápidamente."
      ]
    },
    {
      "cell_type": "markdown",
      "metadata": {},
      "source": [
        "#### 3. Análisis multivariado."
      ]
    },
    {
      "cell_type": "code",
      "execution_count": 84,
      "metadata": {},
      "outputs": [],
      "source": [
        "# Mantener solo las 10 primeras variables más importantes por cluster\n",
        "top_10_features_per_cluster = set()\n",
        "\n",
        "for cluster, features in important_features_by_cluster.items():\n",
        "    top_10_features_per_cluster.update(features[:10])\n",
        "\n",
        "# Convertimos el set en una lista.\n",
        "top_10_features_list = list(top_10_features_per_cluster)"
      ]
    },
    {
      "cell_type": "code",
      "execution_count": null,
      "metadata": {},
      "outputs": [],
      "source": [
        "# Función para eliminar outliers basada en IQR\n",
        "def remove_outliers(df, column):\n",
        "    Q1 = df[column].quantile(0.25)\n",
        "    Q3 = df[column].quantile(0.75)\n",
        "    IQR = Q3 - Q1\n",
        "    lower_bound = Q1 - 1.5 * IQR\n",
        "    upper_bound = Q3 + 1.5 * IQR\n",
        "    return df[(df[column] >= lower_bound) & (df[column] <= upper_bound)]\n",
        "\n",
        "# Crear boxplots sin outliers para cada una de las variables seleccionadas\n",
        "for feature in top_10_features_list:\n",
        "    df_filtered = remove_outliers(df_analizar, feature)\n",
        "    plt.figure(figsize=(10, 6))\n",
        "    sns.boxplot(x=\"cluster\", y=feature, data=df_filtered)\n",
        "    plt.title(f\"Boxplot de {feature} aperturado por Cluster (sin outliers).\")\n",
        "    plt.show()"
      ]
    }
  ],
  "metadata": {
    "colab": {
      "provenance": []
    },
    "kernelspec": {
      "display_name": "Python 3",
      "name": "python3"
    },
    "language_info": {
      "codemirror_mode": {
        "name": "ipython",
        "version": 3
      },
      "file_extension": ".py",
      "mimetype": "text/x-python",
      "name": "python",
      "nbconvert_exporter": "python",
      "pygments_lexer": "ipython3",
      "version": "3.12.3"
    }
  },
  "nbformat": 4,
  "nbformat_minor": 0
}
