{
  "cells": [
    {
      "cell_type": "markdown",
      "metadata": {
        "id": "azY5Q6Mko4Sm"
      },
      "source": [
        "# Feature Engineering en SQL\n",
        "\n",
        "A continuación, veremos cómo calcular diferentes variables para el feature engineering utilizando SQL.\n"
      ]
    },
    {
      "cell_type": "markdown",
      "metadata": {},
      "source": [
        "## 1. Configuraciones generales."
      ]
    },
    {
      "cell_type": "code",
      "execution_count": null,
      "metadata": {
        "id": "v--Kr-4KdWVe"
      },
      "outputs": [],
      "source": [
        "%pip install duckdb\n",
        "%pip install jupysql\n",
        "%pip install duckdb-engine"
      ]
    },
    {
      "cell_type": "code",
      "execution_count": null,
      "metadata": {
        "colab": {
          "base_uri": "https://localhost:8080/"
        },
        "id": "id9aIXnzqYJz",
        "outputId": "227a261b-734a-40d8-91fd-21307282b730"
      },
      "outputs": [],
      "source": [
        "# Librerias.\n",
        "import duckdb\n",
        "import pandas as pd\n",
        "    \n",
        "# Configuración de jupysql.\n",
        "%load_ext sql\n",
        "%config SqlMagic.autopandas = True\n",
        "%config SqlMagic.feedback = False\n",
        "%config SqlMagic.displaycon = False\n",
        "\n",
        "# Conexión a DuckDB.\n",
        "%sql duckdb:///:memory:"
      ]
    },
    {
      "cell_type": "code",
      "execution_count": 3,
      "metadata": {
        "id": "N0RgV3r1q_iY"
      },
      "outputs": [],
      "source": [
        "# Datasets.\n",
        "dataset_path = 'C:/Users/c678456/Desktop/Ian/Maestría/Especializacion/2do_cuatrimestre/DMEyF/datasets/'\n",
        "dataset_file = 'competencia_01.csv'"
      ]
    },
    {
      "cell_type": "markdown",
      "metadata": {},
      "source": [
        "## 2. Manejo de datos."
      ]
    },
    {
      "cell_type": "code",
      "execution_count": null,
      "metadata": {
        "colab": {
          "base_uri": "https://localhost:8080/",
          "height": 85,
          "referenced_widgets": [
            "a3f152c2eb5a475ab849623199bdb38f",
            "3ff11078ae7e438cbcfb2a24140a86ec",
            "12d7b5820c7844309fb7311acd2f6d40"
          ]
        },
        "id": "9HTjzrU5rEa6",
        "outputId": "950e22b1-f621-4dd8-e9aa-ecc78551555a"
      },
      "outputs": [],
      "source": [
        "%%sql\n",
        "create or replace table competencia_01 as\n",
        "select\n",
        "    *\n",
        "from read_csv_auto(\"{{dataset_path + dataset_file}}\")"
      ]
    },
    {
      "cell_type": "code",
      "execution_count": null,
      "metadata": {
        "colab": {
          "base_uri": "https://localhost:8080/",
          "height": 383
        },
        "id": "GogfRFXvBQTH",
        "outputId": "ce04de07-b7f2-455a-ade3-3da8387c0433"
      },
      "outputs": [],
      "source": [
        "%%sql\n",
        "select\n",
        "    Master_Fvencimiento\n",
        "    , Visa_Fvencimiento\n",
        "    , greatest(Master_Fvencimiento, Visa_Fvencimiento) as tc_fvencimiento_mayor\n",
        "    , least(Master_Fvencimiento, Visa_Fvencimiento) as tc_fvencimiento_menor\n",
        "from competencia_01 limit 10"
      ]
    },
    {
      "cell_type": "markdown",
      "metadata": {
        "id": "27TYf5UXBfVC"
      },
      "source": [
        "Lo siguiente es querer operar dos variables, como por ejemplo sumarla. Esto es sencillo\n"
      ]
    },
    {
      "cell_type": "code",
      "execution_count": null,
      "metadata": {
        "colab": {
          "base_uri": "https://localhost:8080/",
          "height": 363
        },
        "id": "zQjwuGwxBeuz",
        "outputId": "2dee4818-813d-47f2-9610-bab31f7169c5"
      },
      "outputs": [],
      "source": [
        "%%sql\n",
        "select\n",
        "    Master_msaldototal\n",
        "    , Visa_msaldototal\n",
        "    , Master_msaldototal + Visa_msaldototal as tc_saldo_total\n",
        "from competencia_01 limit 10"
      ]
    },
    {
      "cell_type": "markdown",
      "metadata": {
        "id": "DyzGLXh1Brrt"
      },
      "source": [
        "Pero un DS de a de veras mirará los datos y se encontrará con un campo que es null cuando se lo suma a otro dará null."
      ]
    },
    {
      "cell_type": "code",
      "execution_count": null,
      "metadata": {
        "colab": {
          "base_uri": "https://localhost:8080/",
          "height": 363
        },
        "id": "cVjjQbOFBsZe",
        "outputId": "fe337b69-1645-4adb-cd3d-4bd13096e923"
      },
      "outputs": [],
      "source": [
        "%%sql\n",
        "select\n",
        "    Master_msaldototal\n",
        "    , Visa_msaldototal\n",
        "    , Master_msaldototal + Visa_msaldototal as tc_saldo_total\n",
        "from competencia_01 where Master_msaldototal is null limit 10"
      ]
    },
    {
      "cell_type": "markdown",
      "metadata": {
        "id": "rEMjzN2iCRd5"
      },
      "source": [
        "Esto no siempre es deseable y puede ser fácilmente evitable"
      ]
    },
    {
      "cell_type": "code",
      "execution_count": null,
      "metadata": {
        "colab": {
          "base_uri": "https://localhost:8080/",
          "height": 363
        },
        "id": "iRYuh1xiCNgy",
        "outputId": "f0fece22-8d81-422d-81b3-fc0d1fe79c17"
      },
      "outputs": [],
      "source": [
        "%%sql\n",
        "select\n",
        "    Master_msaldototal\n",
        "    , Visa_msaldototal\n",
        "    , ifnull(Master_msaldototal, 0) + ifnull(Visa_msaldototal, 0) as tc_saldo_total\n",
        "from competencia_01 limit 10"
      ]
    },
    {
      "cell_type": "code",
      "execution_count": null,
      "metadata": {
        "colab": {
          "base_uri": "https://localhost:8080/",
          "height": 53
        },
        "id": "KmOP6dcaCYKR",
        "outputId": "de14755c-0147-4e44-ca63-d978cee74e1e"
      },
      "outputs": [],
      "source": [
        "%%sql\n",
        "CREATE OR REPLACE MACRO suma_sin_null(a, b) AS ifnull(a, 0) + ifnull(b, 0);\n"
      ]
    },
    {
      "cell_type": "code",
      "execution_count": null,
      "metadata": {
        "colab": {
          "base_uri": "https://localhost:8080/",
          "height": 363
        },
        "id": "UZMmNnxOHRn-",
        "outputId": "c7038d2c-a775-4fb9-ef06-0a9010c3861f"
      },
      "outputs": [],
      "source": [
        "%%sql\n",
        "select distinct\n",
        "    Master_msaldototal\n",
        "    , Visa_msaldototal\n",
        "    , suma_sin_null(Master_msaldototal, Visa_msaldototal) as tc_saldo_total\n",
        "from competencia_01 where Master_msaldototal is null limit 10\n"
      ]
    },
    {
      "cell_type": "markdown",
      "metadata": {
        "id": "ZL2Ui5fDI3lu"
      },
      "source": [
        "TAREA: Escriba una macro para hacer un ratio de dos variables que sea seguro, donde no solo hay campos con null, también esta el problema de la división por cero. Como es costumbre comparta su solución por este canal. Lea https://duckdb.org/docs/sql/functions/numeric.html para referencias de funciones que puede usar.\n",
        "\n",
        "---\n",
        "\n",
        "\"Claro!\" me dirá, mientras lee esto con un mate en la mano, \"para cosas fáciles usar SQL alcanza, pero para algo más complicado como crear campos contra el data drifting es difícil\".... elija su medicina:"
      ]
    },
    {
      "cell_type": "code",
      "execution_count": null,
      "metadata": {
        "colab": {
          "base_uri": "https://localhost:8080/",
          "height": 476,
          "referenced_widgets": [
            "52dba8c17a9449e4af01ae2137ecafa3",
            "74443e166c0942c2864fa486291c05dd",
            "e9af509dfaca41b5a8a6d151921f0ab1"
          ]
        },
        "id": "lwFjk5_9JAhC",
        "outputId": "5a5aff35-2977-457d-9a48-19f09859fb6d"
      },
      "outputs": [],
      "source": [
        "%%sql\n",
        "select\n",
        "    foto_mes\n",
        "    , numero_de_cliente\n",
        "    , cliente_antiguedad\n",
        "    , row_number() over (partition by numero_de_cliente order by foto_mes) as cliente_antiguedad_2 # Enumero los meses por cliente\n",
        "    , percent_rank() over (partition by foto_mes order by cliente_antiguedad) as cliente_antiguedad_3 # Posición de los clientes por mes según su antigüedad, entre 0 y 1.\n",
        "    , cume_dist() over (partition by foto_mes order by cliente_antiguedad) as cliente_antiguedad_4 # Distribución acumulativa de los valores de antigüedad dentro de cada mes.\n",
        "    , ntile(4) over (partition by foto_mes order by cliente_antiguedad) as cliente_antiguedad_5 # Corto la poblacion en 4 grupos, y le asigno una a cada cliente, según su posición de antigüedad.\n",
        "    , ntile(10) over (partition by foto_mes order by cliente_antiguedad) as cliente_antiguedad_6 # Corto la poblacion en 10, y le asigno una a cada cliente, según su posición de antigüedad.\n",
        "from competencia_01\n",
        "order by numero_de_cliente, cliente_antiguedad\n"
      ]
    },
    {
      "cell_type": "markdown",
      "metadata": {
        "id": "weXY2U2oLHFd"
      },
      "source": [
        "Qué paso? use las hermosas funciones analíticas de SQL. Al campo cliente_antiguedad (que no sufre de data drifting, solo esta para dar el ejemplo) para cada período (partition by foto_mes) la ordeno (order by cliente_antiguedad) y luego calculo las métricas de orden que pueden encontrar acá https://duckdb.org/docs/sql/window_functions.html#general-purpose-window-functions.\n",
        "\n",
        "Seguiremos usando las funciones analíticas de SQL, esta vez para calcular features que utilizan valores del pasado.\n",
        "\n",
        "Qué pasa si quiero agregar un feature que muestre el valor del periodo anterior?\n"
      ]
    },
    {
      "cell_type": "code",
      "execution_count": null,
      "metadata": {
        "colab": {
          "base_uri": "https://localhost:8080/",
          "height": 363
        },
        "id": "PeE8H0BZLF4q",
        "outputId": "b04d530c-b96f-4dda-99cf-ef89f8bd2292"
      },
      "outputs": [],
      "source": [
        "%%sql\n",
        "select\n",
        "  numero_de_cliente\n",
        "  , foto_mes\n",
        "  , ctrx_quarter\n",
        "  , lag(ctrx_quarter, 1) over (partition by numero_de_cliente order by foto_mes) as lag_1_ctrx_quarter # Me traigo el valor del mes anterior para el cliente en cuestión.\n",
        "from competencia_01\n",
        "limit 10\n"
      ]
    },
    {
      "cell_type": "markdown",
      "metadata": {
        "id": "YArVBpb8LSGL"
      },
      "source": [
        "Podemos calcular el delta (diferencia) entre el valor pasado y el presente, para uno o varios meses\n"
      ]
    },
    {
      "cell_type": "code",
      "execution_count": null,
      "metadata": {
        "colab": {
          "base_uri": "https://localhost:8080/",
          "height": 383
        },
        "id": "3fzJHwWsLU2u",
        "outputId": "9b31a9e7-8834-43f6-c1d4-edf46844cd12"
      },
      "outputs": [],
      "source": [
        "%%sql\n",
        "select\n",
        "  numero_de_cliente\n",
        "  , foto_mes\n",
        "  , ctrx_quarter\n",
        "  , lag(ctrx_quarter, 1) over (partition by numero_de_cliente order by foto_mes) as lag_1_ctrx_quarter\n",
        "  , ctrx_quarter - lag_1_ctrx_quarter as delta_1_ctrx_quarter\n",
        "  , ctrx_quarter - lag(ctrx_quarter, 2) over (partition by numero_de_cliente order by foto_mes) as lag_2_ctrx_quarter\n",
        "from competencia_01\n",
        "limit 10\n"
      ]
    },
    {
      "cell_type": "markdown",
      "metadata": {
        "id": "5_sDG_hmLdh6"
      },
      "source": [
        "Si necesitamos ya no solo traer un valor del pasado, sino una secuencia de valores, por ejemplo para calcular la media móvil con los últimos 3 meses anteriores? se puede hacer fácilmente\n"
      ]
    },
    {
      "cell_type": "code",
      "execution_count": null,
      "metadata": {
        "colab": {
          "base_uri": "https://localhost:8080/",
          "height": 383
        },
        "id": "c_qtb1HzLXn5",
        "outputId": "5021fdb4-4997-4767-893b-e4274efb44f4"
      },
      "outputs": [],
      "source": [
        "%%sql\n",
        "select\n",
        "  numero_de_cliente\n",
        "  , foto_mes\n",
        "  , ctrx_quarter\n",
        "  , lag(ctrx_quarter, 1) over (partition by numero_de_cliente order by foto_mes) as lag_1_ctrx_quarter\n",
        "  , lag(ctrx_quarter, 2) over (partition by numero_de_cliente order by foto_mes) as lag_2_ctrx_quarter\n",
        "  , lag(ctrx_quarter, 3) over (partition by numero_de_cliente order by foto_mes) as lag_3_ctrx_quarter\n",
        "  , avg(ctrx_quarter) over (partition by numero_de_cliente\n",
        "                            order by foto_mes\n",
        "                            rows between 3 preceding and current row) as avg_3_ctrx_quarter\n",
        "from competencia_01\n",
        "order by numero_de_cliente, foto_mes desc\n",
        "limit 10\n"
      ]
    },
    {
      "cell_type": "markdown",
      "metadata": {
        "id": "_dRgwDh-Mml8"
      },
      "source": [
        "Si embargo puede resultar incómodo escribir constantemente el over partition sobre todo si se buscan aplicar muchas veces para distintas funciones. Para reducir el código se puede usar la siguiente sintaxis\n",
        "\n"
      ]
    },
    {
      "cell_type": "code",
      "execution_count": null,
      "metadata": {
        "colab": {
          "base_uri": "https://localhost:8080/",
          "height": 383
        },
        "id": "-w7q2f9DMkqy",
        "outputId": "81800a04-9115-4df6-f954-5bf87bcd592a"
      },
      "outputs": [],
      "source": [
        "%%sql\n",
        "select\n",
        "  numero_de_cliente\n",
        "  , foto_mes\n",
        "  , ctrx_quarter\n",
        "  , avg(ctrx_quarter) over ventana_3 as ctrx_quarter_media_3\n",
        "  , max(ctrx_quarter) over ventana_3 as ctrx_quarter_max_3\n",
        "  , min(ctrx_quarter) over ventana_3 as ctrx_quarter_min_3\n",
        "from competencia_01\n",
        "window ventana_3 as (partition by numero_de_cliente order by foto_mes rows between 3 preceding and current row)\n",
        "limit 10\n"
      ]
    },
    {
      "cell_type": "markdown",
      "metadata": {
        "id": "t1cd9CbqMzNy"
      },
      "source": [
        "Para saber más que funciones tenemos disponibles, recomiendo ver los siguientes links:\n",
        "\n",
        "https://duckdb.org/docs/archive/0.8.1/sql/window_functions\n",
        "https://duckdb.org/docs/archive/0.8.1/sql/aggregates\n",
        "Un caso más, que ni me voy a molestar en explicar que significa...\n"
      ]
    },
    {
      "cell_type": "code",
      "execution_count": null,
      "metadata": {
        "id": "8_y8BipcM18A"
      },
      "outputs": [],
      "source": [
        "%%sql\n",
        "select\n",
        "  numero_de_cliente\n",
        "  , foto_mes\n",
        "  , ctrx_quarter\n",
        "  ,regr_slope(ctrx_quarter, cliente_antiguedad) over ventana_3 as ctrx_quarter_slope_3 # La pendiente de la regresión lineal.\n",
        "from competencia_01\n",
        "window ventana_3 as (partition by numero_de_cliente order by foto_mes rows between 3 preceding and current row)\n",
        "limit 10\n"
      ]
    },
    {
      "cell_type": "markdown",
      "metadata": {
        "id": "RbJ3KvPONDaM"
      },
      "source": [
        "... Alguno dirá \"tenemos que escribir todo esto a mano? Son muchas variables!\". Bueno no, use los conocimientos de programación para que la computadora trabaje para usted. Si tenemos una lista de campos\n"
      ]
    },
    {
      "cell_type": "code",
      "execution_count": 28,
      "metadata": {
        "id": "h1IVd_8wNJnY"
      },
      "outputs": [],
      "source": [
        "campos = ['active_quarter', 'cliente_vip', 'internet', 'cliente_edad', 'cliente_antiguedad', 'mrentabilidad']\n"
      ]
    },
    {
      "cell_type": "markdown",
      "metadata": {
        "id": "TgxdmjPcPiT5"
      },
      "source": [
        "Podemos hacer un script muy sencillo que nos genere el texto que hay que poner en una query para generar esas variables\n"
      ]
    },
    {
      "cell_type": "code",
      "execution_count": null,
      "metadata": {},
      "outputs": [],
      "source": [
        "campos = ['active_quarter', 'cliente_vip', 'internet', 'cliente_edad', 'cliente_antiguedad', 'mrentabilidad']\n",
        "nuevos_features = \"\"\n",
        "for campo in campos:\n",
        "  nuevos_features += f\"\\n, regr_slope({campo}, cliente_antiguedad) over ventana_3 as ctrx_{campo}_slope_3\"\n",
        "print(nuevos_features)\n"
      ]
    },
    {
      "cell_type": "markdown",
      "metadata": {
        "id": "uViiql3Kp4jr"
      },
      "source": [
        "\n",
        "\n",
        "\n",
        "Con la salida de esa celda, arme la query agregando las nuevas líneas y la ejecuta.\n",
        "\n",
        "Lo que acabamos de hacer de manera muy simple es como \"funcionan\" sistemas como **dbt** que están tan de moda en el mundo de los datos.\n",
        "\n",
        "La última reflexión, la creación de nuevas features es un proceso computacionalmente rápido pero intenso. Si ejecutó lo anterior pudo haber visto que en poco minutos tenía sus nuevas variables. Pero, también pudo haberle fallado por temas de recursos. Miles de variables necesitan los recursos adecuados. Use la nube, una máquina grande, al menos que sepa bien como optimizar las queries.\n"
      ]
    },
    {
      "cell_type": "markdown",
      "metadata": {
        "id": "8kpwYKQzRaU7"
      },
      "source": [
        "Y a no olvidarse guardar las nueva tabla"
      ]
    },
    {
      "cell_type": "code",
      "execution_count": null,
      "metadata": {
        "id": "pTQNkXCxRQc5"
      },
      "outputs": [],
      "source": [
        "%%sql\n",
        "COPY competencia_01 TO '{dataset_path}competencia_01_fe.csv' (FORMAT CSV, HEADER TRUE);"
      ]
    },
    {
      "cell_type": "markdown",
      "metadata": {},
      "source": [
        "## 3. Desarrollo propio."
      ]
    },
    {
      "cell_type": "markdown",
      "metadata": {},
      "source": [
        "#### A. Configuraciones básicas."
      ]
    },
    {
      "cell_type": "code",
      "execution_count": 1,
      "metadata": {},
      "outputs": [],
      "source": [
        "# Librerias.\n",
        "import duckdb\n",
        "import pandas as pd\n",
        "    \n",
        "# Configuración de jupysql.\n",
        "%load_ext sql\n",
        "%config SqlMagic.autopandas = True\n",
        "%config SqlMagic.feedback = False\n",
        "%config SqlMagic.displaycon = False\n",
        "\n",
        "# Conexión a DuckDB.\n",
        "%sql duckdb:///:memory:\n",
        "    \n",
        "# Datasets.\n",
        "dataset_path = 'C:/Users/c678456/Desktop/Ian/Maestría/Especializacion/2do_cuatrimestre/DMEyF/datasets/'\n",
        "dataset_file = 'competencia_01.csv'"
      ]
    },
    {
      "cell_type": "markdown",
      "metadata": {},
      "source": [
        "#### B. Lectura."
      ]
    },
    {
      "cell_type": "code",
      "execution_count": null,
      "metadata": {},
      "outputs": [],
      "source": [
        "%%sql\n",
        "create or replace table competencia_01 as\n",
        "select\n",
        "    *\n",
        "from read_csv_auto(\"{{dataset_path + dataset_file}}\")"
      ]
    },
    {
      "cell_type": "markdown",
      "metadata": {},
      "source": [
        "#### C. Feature Engineering - Creando relaciones entre variables."
      ]
    },
    {
      "cell_type": "code",
      "execution_count": null,
      "metadata": {},
      "outputs": [],
      "source": [
        "%%sql\n",
        "CREATE OR REPLACE MACRO suma_sin_null(a, b) AS ifnull(a, 0) + ifnull(b, 0);"
      ]
    },
    {
      "cell_type": "code",
      "execution_count": null,
      "metadata": {},
      "outputs": [],
      "source": [
        "%%sql\n",
        "CREATE OR REPLACE MACRO division_segura(a, b) AS \n",
        "    CASE \n",
        "        WHEN ifnull(b, 0) = 0 THEN NULL \n",
        "        ELSE ifnull(a, 0) / ifnull(b, 1) \n",
        "    END;"
      ]
    },
    {
      "cell_type": "code",
      "execution_count": 5,
      "metadata": {},
      "outputs": [],
      "source": [
        "# Sumo Métricas de VISA + MASTERCARD para tener un comportamiento total."
      ]
    },
    {
      "cell_type": "code",
      "execution_count": null,
      "metadata": {},
      "outputs": [],
      "source": [
        "%%sql\n",
        "create or replace table competencia_01_sumas as\n",
        "select *,\n",
        "    suma_sin_null(mtarjeta_visa_consumo, mtarjeta_master_consumo) as tc_consumo_total\n",
        "    --, suma_sin_null(mtarjeta_visa_debitos_automaticos, mtarjeta_master_debitos_automaticos) as tc_debitosautomaticos_total\n",
        "    , suma_sin_null(Master_mfinanciacion_limite,Visa_mfinanciacion_limite) as tc_financiacionlimite_total\n",
        "    , suma_sin_null(Master_msaldopesos,Visa_msaldopesos) as tc_saldopesos_total\n",
        "    , suma_sin_null(Master_msaldodolares,Visa_msaldodolares) as tc_saldodolares_total\n",
        "    , suma_sin_null(Master_mconsumospesos,Visa_mconsumospesos) as tc_consumopesos_total\n",
        "    , suma_sin_null(Master_mconsumosdolares,Visa_mconsumosdolares) as tc_consumodolares_total\n",
        "    , suma_sin_null(Master_mlimitecompra,Visa_mlimitecompra) as tc_limitecompra_total\n",
        "    , suma_sin_null(Master_madelantopesos,Visa_madelantopesos) as tc_adelantopesos_total\n",
        "    , suma_sin_null(Master_madelantodolares,Visa_madelantodolares) as tc_adelantodolares_total\n",
        "    , suma_sin_null(tc_adelantopesos_total,tc_adelantodolares_total) as tc_adelanto_total\n",
        "    , suma_sin_null(Master_mpagado,Visa_mpagado) as tc_pagado_total\n",
        "    , suma_sin_null(Master_mpagospesos,Visa_mpagospesos) as tc_pagadopesos_total\n",
        "    , suma_sin_null(Master_mpagosdolares,Visa_mpagosdolares) as tc_pagadodolares_total\n",
        "    , suma_sin_null(Master_msaldototal,Visa_msaldototal) as tc_saldototal_total\n",
        "    , suma_sin_null(Master_mconsumototal,Visa_mconsumototal) as tc_consumototal_total\n",
        "    , suma_sin_null(Master_cconsumos,Visa_cconsumos) as tc_cconsumos_total\n",
        "    , suma_sin_null(Master_delinquency,Visa_delinquency) as tc_morosidad_total\n",
        "from competencia_01"
      ]
    },
    {
      "cell_type": "code",
      "execution_count": null,
      "metadata": {},
      "outputs": [],
      "source": [
        "%%sql\n",
        "create or replace table competencia_01_sumas as\n",
        "select *,\n",
        "    suma_sin_null(mtarjeta_visa_consumo, mtarjeta_master_consumo) as tc_consumo_total\n",
        "    --, suma_sin_null(mtarjeta_visa_debitos_automaticos, mtarjeta_master_debitos_automaticos) as tc_debitosautomaticos_total\n",
        "    , suma_sin_null(Master_mfinanciacion_limite,Visa_mfinanciacion_limite) as tc_financiacionlimite_total\n",
        "    , suma_sin_null(Master_msaldopesos,Visa_msaldopesos) as tc_saldopesos_total\n",
        "    , suma_sin_null(Master_msaldodolares,Visa_msaldodolares) as tc_saldodolares_total\n",
        "    , suma_sin_null(Master_mconsumospesos,Visa_mconsumospesos) as tc_consumopesos_total\n",
        "    , suma_sin_null(Master_mconsumosdolares,Visa_mconsumosdolares) as tc_consumodolares_total\n",
        "    , suma_sin_null(Master_mlimitecompra,Visa_mlimitecompra) as tc_limitecompra_total\n",
        "    , suma_sin_null(Master_madelantopesos,Visa_madelantopesos) as tc_adelantopesos_total\n",
        "    , suma_sin_null(Master_madelantodolares,Visa_madelantodolares) as tc_adelantodolares_total\n",
        "    , suma_sin_null(tc_adelantopesos_total,tc_adelantodolares_total) as tc_adelanto_total\n",
        "    , suma_sin_null(Master_mpagado,Visa_mpagado) as tc_pagado_total\n",
        "    , suma_sin_null(Master_mpagospesos,Visa_mpagospesos) as tc_pagadopesos_total\n",
        "    , suma_sin_null(Master_mpagosdolares,Visa_mpagosdolares) as tc_pagadodolares_total\n",
        "    , suma_sin_null(Master_msaldototal,Visa_msaldototal) as tc_saldototal_total\n",
        "    , suma_sin_null(Master_mconsumototal,Visa_mconsumototal) as tc_consumototal_total\n",
        "    , suma_sin_null(Master_cconsumos,Visa_cconsumos) as tc_cconsumos_total\n",
        "    , suma_sin_null(Master_delinquency,Visa_delinquency) as tc_morosidad_total\n",
        "from competencia_01\n"
      ]
    },
    {
      "cell_type": "code",
      "execution_count": null,
      "metadata": {},
      "outputs": [],
      "source": [
        "%%sql\n",
        "create or replace table competencia_01_sumas as\n",
        "select\n",
        "    *\n",
        "    , greatest(Master_Fvencimiento, Visa_Fvencimiento) as tc_fvencimiento_mayor\n",
        "    , least(Master_Fvencimiento, Visa_Fvencimiento) as tc_fvencimiento_menor\n",
        "    , greatest(Master_fechaalta, Visa_fechaalta) as tc_fechaalta_mayor\n",
        "    , least(Master_fechaalta, Visa_fechaalta) as tc_fechalta_menor\n",
        "    , greatest(Master_Finiciomora,Visa_Finiciomora) as tc_fechamora_mayor\n",
        "    , least(Master_Finiciomora,Visa_Finiciomora) as tc_fechamora_menor\n",
        "    , greatest(Master_fultimo_cierre,Visa_fultimo_cierre) as tc_fechacierre_mayor\n",
        "    , least(Master_fultimo_cierre,Visa_fultimo_cierre) as tc_fechacierre_menor\n",
        "from competencia_01_sumas"
      ]
    },
    {
      "cell_type": "code",
      "execution_count": 9,
      "metadata": {},
      "outputs": [],
      "source": [
        "# Sumo Métricas de PESOS + DOLARES y PAYROLLS para tener un comportamiento total (mas allá de las incluidas previamente)."
      ]
    },
    {
      "cell_type": "code",
      "execution_count": null,
      "metadata": {},
      "outputs": [],
      "source": [
        "%%sql\n",
        "create or replace table competencia_01_sumas as\n",
        "select *\n",
        "    , suma_sin_null(mplazo_fijo_dolares, mplazo_fijo_pesos) as m_plazofijo_total\n",
        "    , suma_sin_null(minversion1_dolares, minversion1_pesos) as m_inversion1_total\n",
        "    , suma_sin_null(mpayroll, mpayroll2) as m_payroll_total\n",
        "    , suma_sin_null(cpayroll_trx, cpayroll2_trx) as c_payroll_total\n",
        "    , suma_sin_null(suma_sin_null(suma_sin_null(cseguro_vida, cseguro_auto), cseguro_vivienda), cseguro_accidentes_personales) as c_seguros_total\n",
        "from competencia_01_sumas"
      ]
    },
    {
      "cell_type": "code",
      "execution_count": 11,
      "metadata": {},
      "outputs": [],
      "source": [
        "# Calculo Métricas de posición ante antigüedad, fechas de altas, etc."
      ]
    },
    {
      "cell_type": "code",
      "execution_count": null,
      "metadata": {},
      "outputs": [],
      "source": [
        "%%sql\n",
        "create or replace table competencia_01_sumas as\n",
        "select\n",
        "    *\n",
        "    , ntile(10) over (partition by foto_mes order by cliente_antiguedad) as cliente_antiguedad_6 # Corto la poblacion en 10, y le asigno una a cada cliente, según su posición de antigüedad.\n",
        "from competencia_01_sumas\n",
        "order by numero_de_cliente, cliente_antiguedad"
      ]
    },
    {
      "cell_type": "code",
      "execution_count": null,
      "metadata": {},
      "outputs": [],
      "source": [
        "%%sql\n",
        "create or replace table competencia_01_sumas as\n",
        "select\n",
        "    *\n",
        "    ,ntile(10) over (partition by foto_mes order by tc_fechaalta_mayor) as antiguedad_tarjetas\n",
        "from competencia_01_sumas\n",
        "order by numero_de_cliente, tc_fechaalta_mayor"
      ]
    },
    {
      "cell_type": "code",
      "execution_count": 14,
      "metadata": {},
      "outputs": [],
      "source": [
        "# Calculo proporciones (Ej: Cantidades promedio, Visa/Mastercard, etc)."
      ]
    },
    {
      "cell_type": "code",
      "execution_count": null,
      "metadata": {},
      "outputs": [],
      "source": [
        "%%sql\n",
        "create or replace table competencia_01_sumas as\n",
        "select *\n",
        "    , division_segura(m_plazofijo_total, cplazo_fijo) as m_promedio_plazofijo_total\n",
        "    , division_segura(m_inversion1_total, cinversion1) as m_promedio_inversion_total\n",
        "    , division_segura(mcaja_ahorro, ccaja_ahorro) as m_promedio_caja_ahorro\n",
        "    , division_segura(mtarjeta_visa_consumo, ctarjeta_visa_transacciones) as m_promedio_tarjeta_visa_consumo_por_transaccion\n",
        "    , division_segura(mtarjeta_master_consumo, ctarjeta_master_transacciones) as m_promedio_tarjeta_master_consumo_por_transaccion\n",
        "    , division_segura(mprestamos_personales, cprestamos_personales) as m_promedio_prestamos_personales\n",
        "    , division_segura(mprestamos_prendarios, cprestamos_prendarios) as m_promedio_prestamos_prendarios\n",
        "    , division_segura(mprestamos_hipotecarios, cprestamos_hipotecarios) as m_promedio_prestamos_hipotecarios\n",
        "    , division_segura(minversion2, cinversion2) as m_promedio_inversion2\n",
        "    , division_segura(mpagodeservicios, cpagodeservicios) as m_promedio_pagodeservicios\n",
        "    , division_segura(mpagomiscuentas, cpagomiscuentas) as m_promedio_pagomiscuentas\n",
        "    , division_segura(mcajeros_propios_descuentos, ccajeros_propios_descuentos) as m_promedio_cajeros_propios_descuentos\n",
        "    , division_segura(mtarjeta_visa_descuentos, ctarjeta_visa_descuentos) as m_promedio_tarjeta_visa_descuentos\n",
        "    , division_segura(mtarjeta_master_descuentos, ctarjeta_master_descuentos) as m_promedio_tarjeta_master_descuentos\n",
        "    , division_segura(mcomisiones_mantenimiento, ccomisiones_mantenimiento) as m_promedio_comisiones_mantenimiento\n",
        "    , division_segura(mcomisiones_otras, ccomisiones_otras) as m_promedio_comisiones_otras\n",
        "    , division_segura(mforex_buy, cforex_buy) as m_promedio_forex_buy\n",
        "    , division_segura(mforex_sell, cforex_sell) as m_promedio_forex_sell\n",
        "    , division_segura(mtransferencias_recibidas, ctransferencias_recibidas) as m_promedio_transferencias_recibidas\n",
        "    , division_segura(mtransferencias_emitidas, ctransferencias_emitidas) as m_promedio_transferencias_emitidas\n",
        "    , division_segura(mextraccion_autoservicio, cextraccion_autoservicio) as m_promedio_extraccion_autoservicio\n",
        "    , division_segura(mcheques_depositados, ccheques_depositados) as m_promedio_cheques_depositados\n",
        "    , division_segura(mcheques_emitidos, ccheques_emitidos) as m_promedio_cheques_emitidos\n",
        "    , division_segura(mcheques_depositados_rechazados, ccheques_depositados_rechazados) as m_promedio_cheques_depositados_rechazados\n",
        "    , division_segura(mcheques_emitidos_rechazados, ccheques_emitidos_rechazados) as m_promedio_cheques_emitidos_rechazados\n",
        "    , division_segura(matm, catm_trx) as m_promedio_atm\n",
        "    , division_segura(matm_other, catm_trx_other) as m_promedio_atm_other\n",
        "    , division_segura(Master_msaldototal,Master_mfinanciacion_limite) as proporcion_financiacion_master_cubierto\n",
        "    , division_segura(Visa_msaldototal,Master_mlimitecompra) as proporcion_limite_master_cubierto\n",
        "    , division_segura(Master_msaldototal,Visa_mfinanciacion_limite) as proporcion_financiacion_visa_cubierto\n",
        "    , division_segura(Visa_msaldototal,Visa_mlimitecompra) as proporcion_limite_visa_cubierto\n",
        "    , division_segura(tc_saldototal_total,tc_financiacionlimite_total) as proporcion_financiacion_total_cubierto\n",
        "    , division_segura(tc_saldototal_total,tc_limitecompra_total) as proporcion_limite_total_cubierto\n",
        "    , division_segura(tc_saldopesos_total,tc_saldototal_total) as tc_proporcion_saldo_pesos\n",
        "    , division_segura(tc_saldodolares_total,tc_saldototal_total) as tc_proporcion_saldo_dolares\n",
        "    , division_segura(tc_consumopesos_total,tc_consumototal_total) as tc_proporcion_consumo_pesos\n",
        "    , division_segura(tc_consumodolares_total,tc_consumototal_total) as tc_proporcion_consumo_dolares\n",
        "    , division_segura(tc_pagadopesos_total,tc_pagado_total) as tc_proporcion_pago_pesos\n",
        "    , division_segura(tc_pagadodolares_total,tc_pagado_total) as tc_proporcion_pago_dolares\n",
        "    , division_segura(tc_adelantopesos_total,tc_adelanto_total) as tc_proporcion_adelanto_pesos\n",
        "    , division_segura(tc_adelantodolares_total,tc_adelanto_total) as tc_proporcion_adelanto_dolares\n",
        "from competencia_01_sumas"
      ]
    },
    {
      "cell_type": "markdown",
      "metadata": {},
      "source": [
        "#### D. Feature Engineering - Data Drifting."
      ]
    },
    {
      "cell_type": "code",
      "execution_count": 16,
      "metadata": {},
      "outputs": [],
      "source": [
        "campos_iniciales = [\n",
        "    \"mrentabilidad\",\n",
        "    \"mrentabilidad_annual\",\n",
        "    \"mcomisiones\",\n",
        "    \"mactivos_margen\",\n",
        "    \"mpasivos_margen\",\n",
        "    \"cproductos\",\n",
        "    \"mcuenta_corriente\",\n",
        "    \"ccaja_ahorro\",\n",
        "    \"mcaja_ahorro\",\n",
        "    \"mcaja_ahorro_adicional\",\n",
        "    \"mcaja_ahorro_dolares\",\n",
        "    \"mcuentas_saldo\",\n",
        "    \"ctarjeta_debito\",\n",
        "    \"ctarjeta_debito_transacciones\",\n",
        "    \"mautoservicio\",\n",
        "    \"ctarjeta_visa_transacciones\",\n",
        "    \"mtarjeta_visa_consumo\",\n",
        "    \"ctarjeta_master_transacciones\",\n",
        "    \"mtarjeta_master_consumo\",\n",
        "    \"cprestamos_personales\",\n",
        "    \"mprestamos_personales\",\n",
        "    \"cprestamos_prendarios\",\n",
        "    \"mprestamos_prendarios\",\n",
        "    \"cprestamos_hipotecarios\",\n",
        "    \"mprestamos_hipotecarios\",\n",
        "    \"cplazo_fijo\",\n",
        "    \"mplazo_fijo_dolares\",\n",
        "    \"mplazo_fijo_pesos\",\n",
        "    \"cinversion1\",\n",
        "    \"minversion1_pesos\",\n",
        "    \"minversion1_dolares\",\n",
        "    \"cinversion2\",\n",
        "    \"minversion2\",\n",
        "    \"mpayroll\",\n",
        "    \"mpayroll2\",\n",
        "    \"ccuenta_debitos_automaticos\",\n",
        "    \"mcuenta_debitos_automaticos\",\n",
        "    \"ctarjeta_visa_debitos_automaticos\",\n",
        "    #\"mtarjeta_visa_debitos_automaticos\",\n",
        "    #\"ctarjeta_master_debitos_automaticos\",\n",
        "    \"mttarjeta_master_debitos_automaticos\",\n",
        "    \"cpagodeservicios\",\n",
        "    \"mpagodeservicios\",\n",
        "    \"cpagomiscuentas\",\n",
        "    \"mpagomiscuentas\",\n",
        "    \"ccajeros_propios_descuentos\",\n",
        "    \"mcajeros_propios_descuentos\",\n",
        "    \"ctarjeta_visa_descuentos\",\n",
        "    \"mtarjeta_visa_descuentos\",\n",
        "    \"ctarjeta_master_descuentos\",\n",
        "    \"mtarjeta_master_descuentos\",\n",
        "    \"ccomisiones_mantenimiento\",\n",
        "    \"mcomisiones_mantenimiento\",\n",
        "    \"ccomisiones_otras\",\n",
        "    \"mcomisiones_otras\",\n",
        "    \"cforex\",\n",
        "    \"cforex_buy\",\n",
        "    \"mforex_buy\",\n",
        "    \"cforex_sell\",\n",
        "    \"mforex_sell\",\n",
        "    \"ctransferencias_recibidas\",\n",
        "    \"mtransferencias_recibidas\",\n",
        "    \"ctransferencias_emitidas\",\n",
        "    \"mtransferencias_emitidas\",\n",
        "    \"cextraccion_autoservicio\",\n",
        "    \"mextraccion_autoservicio\",\n",
        "    \"ccheques_depositados\",\n",
        "    \"mcheques_depositados\",\n",
        "    \"ccheques_emitidos\",\n",
        "    \"mcheques_emitidos\",\n",
        "    \"ccheques_depositados_rechazados\",\n",
        "    \"mcheques_depositados_rechazados\",\n",
        "    \"ccheques_emitidos_rechazados\",\n",
        "    \"mcheques_emitidos_rechazados\",\n",
        "    \"ccallcenter_transacciones\",\n",
        "    \"chomebanking_transacciones\",\n",
        "    \"ccajas_transacciones\",\n",
        "    \"ccajas_consultas\",\n",
        "    \"ccajas_depositos\",\n",
        "    \"ccajas_extracciones\",\n",
        "    \"ccajas_otras\",\n",
        "    \"catm_trx\",\n",
        "    \"matm\",\n",
        "    \"catm_trx_other\",\n",
        "    \"matm_other\",\n",
        "    \"ctrx_quarter\",\n",
        "    \"cmobile_app_trx\",\n",
        "    \"Master_msaldototal\",\n",
        "    \"Master_msaldopesos\",\n",
        "    \"Master_msaldodolares\",\n",
        "    \"Master_mconsumospesos\",\n",
        "    \"Master_mconsumosdolares\",\n",
        "    \"Master_mlimitecompra\",\n",
        "    \"Master_madelantopesos\",\n",
        "    \"Master_madelantodolares\",\n",
        "    \"Master_mpagado\",\n",
        "    \"Master_mpagospesos\",\n",
        "    \"Master_mpagosdolares\",\n",
        "    \"Master_mconsumototal\",\n",
        "    \"Master_cconsumos\",\n",
        "    \"Master_cadelantosefectivo\",\n",
        "    \"Visa_msaldototal\",\n",
        "    \"Visa_msaldopesos\",\n",
        "    \"Visa_msaldodolares\",\n",
        "    \"Visa_mconsumospesos\",\n",
        "    \"Visa_mconsumosdolares\",\n",
        "    \"Visa_mlimitecompra\",\n",
        "    \"Visa_madelantopesos\",\n",
        "    \"Visa_madelantodolares\",\n",
        "    \"Visa_mpagado\",\n",
        "    \"Visa_mpagospesos\",\n",
        "    \"Visa_mpagosdolares\",\n",
        "    \"Visa_mconsumototal\",\n",
        "    \"Visa_cconsumos\",\n",
        "    \"Visa_cadelantosefectivo\"\n",
        "]\n",
        "\n",
        "campos_adicionales = [\n",
        "    \"tc_consumo_total\",\n",
        "    \"tc_financiacionlimite_total\",\n",
        "    \"tc_saldopesos_total\",\n",
        "    \"tc_saldodolares_total\",\n",
        "    \"tc_consumopesos_total\",\n",
        "    \"tc_consumodolares_total\",\n",
        "    \"tc_limitecompra_total\",\n",
        "    \"tc_adelantopesos_total\",\n",
        "    \"tc_adelantodolares_total\",\n",
        "    \"tc_adelanto_total\",\n",
        "    \"tc_pagado_total\",\n",
        "    \"tc_pagadopesos_total\",\n",
        "    \"tc_pagadodolares_total\",\n",
        "    \"tc_saldototal_total\",\n",
        "    \"tc_consumototal_total\",\n",
        "    \"tc_cconsumos_total\",\n",
        "    \"tc_morosidad_total\",\n",
        "    \"m_promedio_plazofijo_total\",\n",
        "    \"m_promedio_inversion_total\",\n",
        "    \"m_promedio_caja_ahorro\",\n",
        "    \"m_promedio_tarjeta_visa_consumo\",\n",
        "    \"m_promedio_tarjeta_master_consumo\",\n",
        "    \"m_promedio_prestamos_personales\",\n",
        "    \"m_promedio_prestamos_prendarios\",\n",
        "    \"m_promedio_prestamos_hipotecarios\",\n",
        "    \"m_promedio_inversion2\",\n",
        "    \"m_promedio_pagodeservicios\",\n",
        "    \"m_promedio_pagomiscuentas\",\n",
        "    \"m_promedio_cajeros_propios_descuentos\",\n",
        "    \"m_promedio_tarjeta_visa_descuentos\",\n",
        "    \"m_promedio_tarjeta_master_descuentos\",\n",
        "    \"m_promedio_comisiones_mantenimiento\",\n",
        "    \"m_promedio_comisiones_otras\",\n",
        "    \"m_promedio_forex_buy\",\n",
        "    \"m_promedio_forex_sell\",\n",
        "    \"m_promedio_transferencias_recibidas\",\n",
        "    \"m_promedio_transferencias_emitidas\",\n",
        "    \"m_promedio_extraccion_autoservicio\",\n",
        "    \"m_promedio_cheques_depositados\",\n",
        "    \"m_promedio_cheques_emitidos\",\n",
        "    \"m_promedio_cheques_depositados_rechazados\",\n",
        "    \"m_promedio_cheques_emitidos_rechazados\",\n",
        "    \"m_promedio_atm\",\n",
        "    \"m_promedio_atm_other\",\n",
        "    \"proporcion_financiacion_master_cubierto\",\n",
        "    \"proporcion_limite_master_cubierto\",\n",
        "    \"proporcion_financiacion_visa_cubierto\",\n",
        "    \"proporcion_limite_visa_cubierto\",\n",
        "    \"proporcion_financiacion_total_cubierto\",\n",
        "    \"proporcion_limite_total_cubierto\",\n",
        "    \"tc_proporcion_saldo_pesos\",\n",
        "    \"tc_proporcion_saldo_dolares\",\n",
        "    \"tc_proporcion_consumo_pesos\",\n",
        "    \"tc_proporcion_consumo_dolares\",\n",
        "    \"tc_proporcion_pago_pesos\",\n",
        "    \"tc_proporcion_pago_dolares\",\n",
        "    \"tc_proporcion_adelanto_pesos\",\n",
        "    \"tc_proporcion_adelanto_dolares\"\n",
        "]\n",
        "\n",
        "campos = campos_iniciales + campos_adicionales\n"
      ]
    },
    {
      "cell_type": "code",
      "execution_count": 17,
      "metadata": {},
      "outputs": [],
      "source": [
        "nuevos_features =\"\"\n",
        "for campo in campos:\n",
        "  nuevos_features += f\"\\n, regr_slope({campo}, cliente_antiguedad) over ventana_3 as {campo}_slope_3\"\n",
        "#print(nuevos_features)"
      ]
    },
    {
      "cell_type": "code",
      "execution_count": null,
      "metadata": {},
      "outputs": [],
      "source": [
        "%%sql\n",
        "create or replace table competencia_01_sumas_drifting as\n",
        "select *\n",
        "  {{nuevos_features}}\n",
        "from competencia_01_sumas\n",
        "window ventana_3 as (partition by numero_de_cliente order by foto_mes rows between 3 preceding and current row)\n"
      ]
    },
    {
      "cell_type": "code",
      "execution_count": 19,
      "metadata": {},
      "outputs": [],
      "source": [
        "# Calculo valor actual vs acumulado historico y vs promedio histórico."
      ]
    },
    {
      "cell_type": "code",
      "execution_count": 20,
      "metadata": {},
      "outputs": [],
      "source": [
        "nuevos_features = \"\"\n",
        "for campo in campos:\n",
        "    nuevos_features += f'''\n",
        "                         , division_segura({campo}, avg(COALESCE({campo}, 0)) over ventana_hist) as ratio_actual_{campo}\n",
        "                         , sum(COALESCE({campo}, 0)) over ventana_hist as sumcum_{campo}\n",
        "                         , avg(COALESCE({campo}, 0)) over ventana_hist as avg_historico_{campo}\n",
        "                     '''\n",
        "#print(nuevos_features)"
      ]
    },
    {
      "cell_type": "code",
      "execution_count": null,
      "metadata": {},
      "outputs": [],
      "source": [
        "%%sql\n",
        "--create or replace table competencia_01_sumas_drifting as\n",
        "select *\n",
        "  {{nuevos_features}}\n",
        "from competencia_01_sumas_drifting\n",
        "window ventana_hist as (partition by numero_de_cliente order by foto_mes rows between 3 preceding and current row);"
      ]
    },
    {
      "cell_type": "markdown",
      "metadata": {},
      "source": [
        "#### E. Exportación."
      ]
    },
    {
      "cell_type": "code",
      "execution_count": null,
      "metadata": {},
      "outputs": [],
      "source": [
        "%%sql\n",
        "COPY competencia_01_sumas_drifting TO '{dataset_path}competencia_01_fe_z5.csv' (FORMAT CSV, HEADER TRUE);"
      ]
    },
    {
      "cell_type": "markdown",
      "metadata": {},
      "source": [
        "#### F. Subo predicción a Kaggle con el ultimo modelo y estos nuevos datos."
      ]
    },
    {
      "cell_type": "code",
      "execution_count": 1,
      "metadata": {},
      "outputs": [],
      "source": [
        "base_path = 'C:/Users/c678456/Desktop/Ian/Maestría/Especializacion/2do_cuatrimestre/DMEyF/'\n",
        "dataset_path = base_path + 'datasets/'\n",
        "modelos_path = base_path + 'modelos/'\n",
        "db_path = base_path + 'db/'\n",
        "dataset_file = 'competencia_01_fe.csv'"
      ]
    },
    {
      "cell_type": "code",
      "execution_count": 2,
      "metadata": {},
      "outputs": [],
      "source": [
        "#1. Leo el modelo.\n",
        "import pickle\n",
        "filename = modelos_path + 'exp_206_rf_100_imputacion_media.sav'\n",
        "model_rf = pickle.load(open(filename, 'rb'))"
      ]
    },
    {
      "cell_type": "code",
      "execution_count": 3,
      "metadata": {},
      "outputs": [],
      "source": [
        "#2. Leo los datos.\n",
        "import pandas as pd\n",
        "data = pd.read_csv(dataset_path + dataset_file)"
      ]
    },
    {
      "cell_type": "code",
      "execution_count": 4,
      "metadata": {},
      "outputs": [],
      "source": [
        "#3. Divido.\n",
        "# Filtro los cuatro meses de entrenamiento.\n",
        "mes_train = [202101,202102,202103,202104]\n",
        "mes_test = 202106\n",
        "\n",
        "# Separo entre Train y Test.\n",
        "#i. Configuro Train.\n",
        "X = data[data['foto_mes'].isin(mes_train)]\n",
        "y = X['clase_ternaria']\n",
        "X = X.drop(columns=['clase_ternaria'])\n",
        "#ii. Configuro Test.\n",
        "X_futuro = data[data['foto_mes'] == (mes_test)]\n",
        "y_futuro = X_futuro['clase_ternaria']\n",
        "X_futuro = X_futuro.drop(columns=['clase_ternaria'])"
      ]
    },
    {
      "cell_type": "code",
      "execution_count": 6,
      "metadata": {},
      "outputs": [],
      "source": [
        "#a. Imputo con la Media.\n",
        "from sklearn.impute import SimpleImputer\n",
        "import numpy as np\n",
        "imp_mean = SimpleImputer(missing_values=np.nan, strategy='mean')\n",
        "Xi = imp_mean.fit_transform(X)\n",
        "Xif = imp_mean.fit_transform(X_futuro)"
      ]
    },
    {
      "cell_type": "code",
      "execution_count": null,
      "metadata": {},
      "outputs": [],
      "source": [
        "model_rf.fit(Xi,y)"
      ]
    },
    {
      "cell_type": "code",
      "execution_count": null,
      "metadata": {},
      "outputs": [],
      "source": [
        "#4. Predigo Junio.\n",
        "#i. Realizo la predicción de probabilidades usando el modelo entrenado.\n",
        "predicciones = model_rf.predict_proba(X_futuro)\n",
        "#ii. Encuentro el índice de la columna \"BAJA+2\".\n",
        "indice_baja2 = model_rf.classes_.tolist().index(\"BAJA+2\")\n",
        "#iii. Agrego la columna de probabilidad de \"BAJA+2\" al DataFrame.\n",
        "X_futuro['prob_baja2'] = predicciones[:, indice_baja2]\n",
        "#iv. Solo envío estímulo a los registros con probabilidad de \"BAJA+2\" mayor a 1/40.\n",
        "X_futuro['Predicted'] = (X_futuro['prob_baja2'] > 1/40).astype(int)\n",
        "#v. Selecciono las columnas de interés.\n",
        "resultados = X_futuro[[\"numero_de_cliente\",\"Predicted\"]].reset_index(drop=True) \n",
        "#vi. Exporto como archivo .csv.\n",
        "nombre_archivo = \"K105_001.csv\"\n",
        "ruta_archivo= \"../../../exp/{}\".format(nombre_archivo)\n",
        "resultados.to_csv(ruta_archivo,index=False)"
      ]
    },
    {
      "cell_type": "code",
      "execution_count": null,
      "metadata": {},
      "outputs": [],
      "source": [
        "#5. Envío a Kaggle.\n",
        "#a. Importo librería.\n",
        "from kaggle.api.kaggle_api_extended import KaggleApi\n",
        "#b. Configura el API de Kaggle\n",
        "api = KaggleApi()\n",
        "api.authenticate()\n",
        "#c. Defino los parámetros claves.\n",
        "mensaje = f'Archivo {nombre_archivo}. Se predice Junio con modelo entrenado con Enero, Febrero, Marzo y Abril. Imputación con la Media. 100 Trials para búsqueda de hiperparámetros. Nuevas columnas con Feature Engineering.'\n",
        "competencia = 'dm-ey-f-2024-primera'\n",
        "#c. Subo la Submission.\n",
        "api.competition_submit(file_name=ruta_archivo,message=mensaje,competition=competencia)"
      ]
    }
  ],
  "metadata": {
    "colab": {
      "provenance": []
    },
    "kernelspec": {
      "display_name": "Python 3",
      "name": "python3"
    },
    "language_info": {
      "codemirror_mode": {
        "name": "ipython",
        "version": 3
      },
      "file_extension": ".py",
      "mimetype": "text/x-python",
      "name": "python",
      "nbconvert_exporter": "python",
      "pygments_lexer": "ipython3",
      "version": "3.12.3"
    },
    "widgets": {
      "application/vnd.jupyter.widget-state+json": {
        "12d7b5820c7844309fb7311acd2f6d40": {
          "model_module": "@jupyter-widgets/controls",
          "model_module_version": "1.5.0",
          "model_name": "ProgressStyleModel",
          "state": {
            "_model_module": "@jupyter-widgets/controls",
            "_model_module_version": "1.5.0",
            "_model_name": "ProgressStyleModel",
            "_view_count": null,
            "_view_module": "@jupyter-widgets/base",
            "_view_module_version": "1.2.0",
            "_view_name": "StyleView",
            "bar_color": "black",
            "description_width": ""
          }
        },
        "3ff11078ae7e438cbcfb2a24140a86ec": {
          "model_module": "@jupyter-widgets/base",
          "model_module_version": "1.2.0",
          "model_name": "LayoutModel",
          "state": {
            "_model_module": "@jupyter-widgets/base",
            "_model_module_version": "1.2.0",
            "_model_name": "LayoutModel",
            "_view_count": null,
            "_view_module": "@jupyter-widgets/base",
            "_view_module_version": "1.2.0",
            "_view_name": "LayoutView",
            "align_content": null,
            "align_items": null,
            "align_self": null,
            "border": null,
            "bottom": null,
            "display": null,
            "flex": null,
            "flex_flow": null,
            "grid_area": null,
            "grid_auto_columns": null,
            "grid_auto_flow": null,
            "grid_auto_rows": null,
            "grid_column": null,
            "grid_gap": null,
            "grid_row": null,
            "grid_template_areas": null,
            "grid_template_columns": null,
            "grid_template_rows": null,
            "height": null,
            "justify_content": null,
            "justify_items": null,
            "left": null,
            "margin": null,
            "max_height": null,
            "max_width": null,
            "min_height": null,
            "min_width": null,
            "object_fit": null,
            "object_position": null,
            "order": null,
            "overflow": null,
            "overflow_x": null,
            "overflow_y": null,
            "padding": null,
            "right": null,
            "top": null,
            "visibility": null,
            "width": "auto"
          }
        },
        "52dba8c17a9449e4af01ae2137ecafa3": {
          "model_module": "@jupyter-widgets/controls",
          "model_module_version": "1.5.0",
          "model_name": "FloatProgressModel",
          "state": {
            "_dom_classes": [],
            "_model_module": "@jupyter-widgets/controls",
            "_model_module_version": "1.5.0",
            "_model_name": "FloatProgressModel",
            "_view_count": null,
            "_view_module": "@jupyter-widgets/controls",
            "_view_module_version": "1.5.0",
            "_view_name": "ProgressView",
            "bar_style": "",
            "description": "",
            "description_tooltip": null,
            "layout": "IPY_MODEL_74443e166c0942c2864fa486291c05dd",
            "max": 100,
            "min": 0,
            "orientation": "horizontal",
            "style": "IPY_MODEL_e9af509dfaca41b5a8a6d151921f0ab1",
            "value": 100
          }
        },
        "74443e166c0942c2864fa486291c05dd": {
          "model_module": "@jupyter-widgets/base",
          "model_module_version": "1.2.0",
          "model_name": "LayoutModel",
          "state": {
            "_model_module": "@jupyter-widgets/base",
            "_model_module_version": "1.2.0",
            "_model_name": "LayoutModel",
            "_view_count": null,
            "_view_module": "@jupyter-widgets/base",
            "_view_module_version": "1.2.0",
            "_view_name": "LayoutView",
            "align_content": null,
            "align_items": null,
            "align_self": null,
            "border": null,
            "bottom": null,
            "display": null,
            "flex": null,
            "flex_flow": null,
            "grid_area": null,
            "grid_auto_columns": null,
            "grid_auto_flow": null,
            "grid_auto_rows": null,
            "grid_column": null,
            "grid_gap": null,
            "grid_row": null,
            "grid_template_areas": null,
            "grid_template_columns": null,
            "grid_template_rows": null,
            "height": null,
            "justify_content": null,
            "justify_items": null,
            "left": null,
            "margin": null,
            "max_height": null,
            "max_width": null,
            "min_height": null,
            "min_width": null,
            "object_fit": null,
            "object_position": null,
            "order": null,
            "overflow": null,
            "overflow_x": null,
            "overflow_y": null,
            "padding": null,
            "right": null,
            "top": null,
            "visibility": null,
            "width": "auto"
          }
        },
        "a3f152c2eb5a475ab849623199bdb38f": {
          "model_module": "@jupyter-widgets/controls",
          "model_module_version": "1.5.0",
          "model_name": "FloatProgressModel",
          "state": {
            "_dom_classes": [],
            "_model_module": "@jupyter-widgets/controls",
            "_model_module_version": "1.5.0",
            "_model_name": "FloatProgressModel",
            "_view_count": null,
            "_view_module": "@jupyter-widgets/controls",
            "_view_module_version": "1.5.0",
            "_view_name": "ProgressView",
            "bar_style": "",
            "description": "",
            "description_tooltip": null,
            "layout": "IPY_MODEL_3ff11078ae7e438cbcfb2a24140a86ec",
            "max": 100,
            "min": 0,
            "orientation": "horizontal",
            "style": "IPY_MODEL_12d7b5820c7844309fb7311acd2f6d40",
            "value": 100
          }
        },
        "e9af509dfaca41b5a8a6d151921f0ab1": {
          "model_module": "@jupyter-widgets/controls",
          "model_module_version": "1.5.0",
          "model_name": "ProgressStyleModel",
          "state": {
            "_model_module": "@jupyter-widgets/controls",
            "_model_module_version": "1.5.0",
            "_model_name": "ProgressStyleModel",
            "_view_count": null,
            "_view_module": "@jupyter-widgets/base",
            "_view_module_version": "1.2.0",
            "_view_name": "StyleView",
            "bar_color": "black",
            "description_width": ""
          }
        }
      }
    }
  },
  "nbformat": 4,
  "nbformat_minor": 0
}
