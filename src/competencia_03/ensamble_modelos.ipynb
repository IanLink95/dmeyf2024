{
 "cells": [
  {
   "cell_type": "markdown",
   "metadata": {},
   "source": [
    "## A. Configuraciones generales."
   ]
  },
  {
   "cell_type": "code",
   "execution_count": null,
   "metadata": {},
   "outputs": [],
   "source": [
    "#1. Librerías.\n",
    "%run \"./librerias.ipynb\""
   ]
  },
  {
   "cell_type": "code",
   "execution_count": null,
   "metadata": {},
   "outputs": [],
   "source": [
    "#2. Constantes.\n",
    "#a. Constantes generales.\n",
    "%run \"./constantes.ipynb\"\n",
    "\n",
    "#b. Constantes a definir por el usuario.\n",
    "#i. Semillerios a leer.\n",
    "semillerio_1 = dataset_semillerio_all_1\n",
    "semillerio_2 = dataset_semillerio_all_1_lagsdelta\n",
    "#ii. Información sobre rango temporal del modelo.\n",
    "cantidad_meses_train = \"all\"\n",
    "ventana = 1"
   ]
  },
  {
   "cell_type": "code",
   "execution_count": null,
   "metadata": {},
   "outputs": [],
   "source": [
    "#3. Lectura de datos.\n",
    "#i. Semillerio modelo 1.\n",
    "df_semillerio_1 = pd.read_csv(semillerio_1)\n",
    "#ii. Semillerio modelo 2.\n",
    "df_semillerio_2 = pd.read_csv(semillerio_2)"
   ]
  },
  {
   "cell_type": "markdown",
   "metadata": {},
   "source": [
    "## B. Voting de promedios finales."
   ]
  },
  {
   "cell_type": "markdown",
   "metadata": {},
   "source": [
    "#### 1. Pre-procesamiento."
   ]
  },
  {
   "cell_type": "code",
   "execution_count": null,
   "metadata": {},
   "outputs": [],
   "source": [
    "#1. Calculamos la probabilidad promedio del semillerio 1 y filtramos por las columnas de interés.\n",
    "df_semillerio_1_total = df_semillerio_1.copy()\n",
    "df_semillerio_1_total[\"probabilidad_promedio\"] = df_semillerio_1_total.filter(like=\"prob_semilla_\").mean(axis=1)\n",
    "resultados_promedio_1_total = df_semillerio_1_total[[\"numero_de_cliente\",\"foto_mes\",\"probabilidad_promedio\"]]"
   ]
  },
  {
   "cell_type": "code",
   "execution_count": null,
   "metadata": {},
   "outputs": [],
   "source": [
    "#2. Calculamos la probabilidad proemdio del semillerio 2 y filtramos por las columnas de interés.\n",
    "df_semillerio_2_total = df_semillerio_2.copy()\n",
    "df_semillerio_2_total[\"probabilidad_promedio\"] = df_semillerio_2_total.filter(like=\"prob_semilla_\").mean(axis=1)\n",
    "resultados_promedio_2_total = df_semillerio_2_total[[\"numero_de_cliente\",\"foto_mes\",\"probabilidad_promedio\"]]"
   ]
  },
  {
   "cell_type": "code",
   "execution_count": null,
   "metadata": {},
   "outputs": [],
   "source": [
    "#3. Mergeamos ambos semilleríos en uno solo.\n",
    "resultados_promedio_total = resultados_promedio_1_total.merge(resultados_promedio_2_total,how=\"left\",on=[\"numero_de_cliente\",\"foto_mes\"])"
   ]
  },
  {
   "cell_type": "code",
   "execution_count": null,
   "metadata": {},
   "outputs": [],
   "source": [
    "#4. Promedio ambos semillerios y me quedo con una probabilidad única por numero_de_cliente-foto_mes.\n",
    "resultados_promedio_total[\"probabilidad_promedio\"] = (resultados_promedio_total[\"probabilidad_promedio_x\"] + resultados_promedio_total[\"probabilidad_promedio_y\"])/2"
   ]
  },
  {
   "cell_type": "code",
   "execution_count": null,
   "metadata": {},
   "outputs": [],
   "source": [
    "#5. Filtro las columnas de interés.\n",
    "resultados_promedio_total = resultados_promedio_total[[\"numero_de_cliente\",\"foto_mes\",\"probabilidad_promedio\"]]"
   ]
  },
  {
   "cell_type": "markdown",
   "metadata": {},
   "source": [
    "#### 2. Subida a Kaggle."
   ]
  },
  {
   "cell_type": "code",
   "execution_count": null,
   "metadata": {},
   "outputs": [],
   "source": [
    "#a. Subimos a Kaggle el resutado ensamblado.\n",
    "#i. Activamos la API.\n",
    "api = KaggleApi()\n",
    "api.authenticate()\n",
    "#ii. Ordenamos a los clientes por probabilidad de ser \"BAJA\" de forma descendente.\n",
    "tb_entrega = resultados_promedio_total.sort_values(by='probabilidad_promedio', ascending=False)\n",
    "#iii. Genero una lista de distintos cortes candidatos, para enviar a Kaggle.\n",
    "cortes = range(8500,13500,250)\n",
    "#iv. Generamos las distintas predicciones de clases a partir de los distintos cortes posibles.\n",
    "num_subida_kaggle = 1\n",
    "print(\"--> Comienzan los envíos a Kaggle...\\n\")\n",
    "for envios in cortes:\n",
    "    #1. Le ponemos clase 1 (\"BAJA\") a los primeros \"envios\" con mayor probabilidad.\n",
    "    tb_entrega['Predicted'] = 0\n",
    "    tb_entrega.iloc[:envios, tb_entrega.columns.get_loc('Predicted')] = 1\n",
    "    resultados = tb_entrega[[\"numero_de_cliente\", 'Predicted']].reset_index(drop=True)\n",
    "    \n",
    "    print(\"Cantidad de clientes {}\".format(envios))\n",
    "    #2. Guardamos el archivo para Kaggle.\n",
    "    nombre_archivo = \"K_{}_{}_EK_0{}.csv\".format(cantidad_meses_train,ventana,num_subida_kaggle) #DF con -X meses, Y ventana, número de intento.\n",
    "    ruta_archivo= \"{}/{}\".format(exp_path,nombre_archivo)\n",
    "    resultados.to_csv(ruta_archivo, index=False)\n",
    "    \n",
    "    num_subida_kaggle += 1\n",
    "    \n",
    "    #3. Envío a Kaggle.\n",
    "    #a. Defino los parámetros claves.\n",
    "    mensaje = f'Archivo {nombre_archivo}.Train {cantidad_meses_train} ensamblado de modelos. punto de corte:{envios}' # Datos de Train, si está con Data Drifting o no, semilla y punto de corte de prueba.\n",
    "    competencia = 'dm-ey-f-2024-tercera'\n",
    "    #c. Subo la Submission.\n",
    "    api.competition_submit(file_name=ruta_archivo, message=mensaje, competition=competencia)\n",
    "    print(\"Submission successful!\")"
   ]
  },
  {
   "cell_type": "markdown",
   "metadata": {},
   "source": [
    "## C. Voting de promedios parciales (numero_de_cliente-foto_mes)."
   ]
  },
  {
   "cell_type": "markdown",
   "metadata": {},
   "source": [
    "#### 1. Preprocesamiento."
   ]
  },
  {
   "cell_type": "code",
   "execution_count": null,
   "metadata": {},
   "outputs": [],
   "source": [
    "#a. Concatenamos ambos dataframes.\n",
    "df_semillerio_1_parcial = df_semillerio_1.copy()\n",
    "df_semillerio_2_parcial = df_semillerio_2.copy()\n",
    "df_semillerio_2_parcial.columns = df_semillerio_1_parcial.columns\n",
    "df_semillerio_parcial = pd.concat([df_semillerio_1_parcial, df_semillerio_2_parcial], axis=0, ignore_index=True)"
   ]
  },
  {
   "cell_type": "code",
   "execution_count": null,
   "metadata": {},
   "outputs": [],
   "source": [
    "#b. Agrupamos por numero_de_cliente, foto_mes, y sacamos el promedio por caso.\n",
    "df_semillerio_parcial_agrupado = df_semillerio_parcial.groupby([\"numero_de_cliente\",\"foto_mes\"]).mean().reset_index()"
   ]
  },
  {
   "cell_type": "code",
   "execution_count": null,
   "metadata": {},
   "outputs": [],
   "source": [
    "#c. Ahora sí, calculamos el promedio general.\n",
    "df_semillerio_parcial_agrupado[\"probabilidad_promedio\"] = df_semillerio_parcial_agrupado.filter(like=\"prob_semilla_\").mean(axis=1)"
   ]
  },
  {
   "cell_type": "code",
   "execution_count": null,
   "metadata": {},
   "outputs": [],
   "source": [
    "#d. Nos quedamos con las columnas de interés.\n",
    "df_semillerio_parcial_agrupado = df_semillerio_parcial_agrupado[[\"numero_de_cliente\",\"foto_mes\",\"probabilidad_promedio\"]]"
   ]
  },
  {
   "cell_type": "markdown",
   "metadata": {},
   "source": [
    "#### 2. Subida a Kaggle."
   ]
  },
  {
   "cell_type": "code",
   "execution_count": null,
   "metadata": {},
   "outputs": [],
   "source": [
    "#a. Subimos a Kaggle el resutado ensamblado.\n",
    "#i. Activamos la API.\n",
    "api = KaggleApi()\n",
    "api.authenticate()\n",
    "#ii. Ordenamos a los clientes por probabilidad de ser \"BAJA\" de forma descendente.\n",
    "tb_entrega = df_semillerio_parcial_agrupado.sort_values(by='probabilidad_promedio', ascending=False)\n",
    "#iii. Genero una lista de distintos cortes candidatos, para enviar a Kaggle.\n",
    "cortes = range(8500,13500,250)\n",
    "#iv. Generamos las distintas predicciones de clases a partir de los distintos cortes posibles.\n",
    "num_subida_kaggle = 1\n",
    "print(\"--> Comienzan los envíos a Kaggle...\\n\")\n",
    "for envios in cortes:\n",
    "    #1. Le ponemos clase 1 (\"BAJA\") a los primeros \"envios\" con mayor probabilidad.\n",
    "    tb_entrega['Predicted'] = 0\n",
    "    tb_entrega.iloc[:envios, tb_entrega.columns.get_loc('Predicted')] = 1\n",
    "    resultados = tb_entrega[[\"numero_de_cliente\", 'Predicted']].reset_index(drop=True)\n",
    "    \n",
    "    print(\"Cantidad de clientes {}\".format(envios))\n",
    "    #2. Guardamos el archivo para Kaggle.\n",
    "    nombre_archivo = \"K_votingparcial_{}_{}_EK_0{}.csv\".format(cantidad_meses_train,ventana,num_subida_kaggle) #DF con -X meses, Y ventana, número de intento.\n",
    "    ruta_archivo= \"{}/{}\".format(exp_path,nombre_archivo)\n",
    "    resultados.to_csv(ruta_archivo, index=False)\n",
    "    \n",
    "    num_subida_kaggle += 1\n",
    "    \n",
    "    #3. Envío a Kaggle.\n",
    "    #a. Defino los parámetros claves.\n",
    "    mensaje = f'Archivo {nombre_archivo}.Train {cantidad_meses_train} ensamblado de modelos parciales. punto de corte:{envios}' # Datos de Train, si está con Data Drifting o no, semilla y punto de corte de prueba.\n",
    "    competencia = 'dm-ey-f-2024-tercera'\n",
    "    #c. Subo la Submission.\n",
    "    api.competition_submit(file_name=ruta_archivo, message=mensaje, competition=competencia)\n",
    "    print(\"Submission successful!\")"
   ]
  }
 ],
 "metadata": {
  "language_info": {
   "name": "python"
  }
 },
 "nbformat": 4,
 "nbformat_minor": 2
}
